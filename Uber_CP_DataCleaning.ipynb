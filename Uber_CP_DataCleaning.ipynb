{
 "cells": [
  {
   "cell_type": "code",
   "execution_count": 1,
   "metadata": {},
   "outputs": [],
   "source": [
    "import pandas as pd\n",
    "import numpy as np"
   ]
  },
  {
   "cell_type": "code",
   "execution_count": 41,
   "metadata": {},
   "outputs": [],
   "source": [
    "import seaborn as sns\n",
    "import matplotlib.pyplot as plt"
   ]
  },
  {
   "cell_type": "code",
   "execution_count": 54,
   "metadata": {},
   "outputs": [],
   "source": [
    "from scipy import stats"
   ]
  },
  {
   "cell_type": "markdown",
   "metadata": {},
   "source": [
    "## Data Collection and Cleaning"
   ]
  },
  {
   "cell_type": "markdown",
   "metadata": {},
   "source": [
    "#### 1. Read the Dataset into a DataFrame"
   ]
  },
  {
   "cell_type": "code",
   "execution_count": 2,
   "metadata": {},
   "outputs": [],
   "source": [
    "UberData = pd.read_csv('Uber Data.csv')"
   ]
  },
  {
   "cell_type": "code",
   "execution_count": 3,
   "metadata": {},
   "outputs": [
    {
     "data": {
      "text/plain": [
       "(1156, 7)"
      ]
     },
     "execution_count": 3,
     "metadata": {},
     "output_type": "execute_result"
    }
   ],
   "source": [
    "UberData.shape"
   ]
  },
  {
   "cell_type": "code",
   "execution_count": 4,
   "metadata": {},
   "outputs": [
    {
     "data": {
      "text/html": [
       "<div>\n",
       "<style scoped>\n",
       "    .dataframe tbody tr th:only-of-type {\n",
       "        vertical-align: middle;\n",
       "    }\n",
       "\n",
       "    .dataframe tbody tr th {\n",
       "        vertical-align: top;\n",
       "    }\n",
       "\n",
       "    .dataframe thead th {\n",
       "        text-align: right;\n",
       "    }\n",
       "</style>\n",
       "<table border=\"1\" class=\"dataframe\">\n",
       "  <thead>\n",
       "    <tr style=\"text-align: right;\">\n",
       "      <th></th>\n",
       "      <th>START_DATE*</th>\n",
       "      <th>END_DATE*</th>\n",
       "      <th>CATEGORY*</th>\n",
       "      <th>START*</th>\n",
       "      <th>STOP*</th>\n",
       "      <th>MILES*</th>\n",
       "      <th>PURPOSE*</th>\n",
       "    </tr>\n",
       "  </thead>\n",
       "  <tbody>\n",
       "    <tr>\n",
       "      <th>0</th>\n",
       "      <td>1/1/2016 21:11</td>\n",
       "      <td>1/1/2016 21:17</td>\n",
       "      <td>Business</td>\n",
       "      <td>Fort Pierce</td>\n",
       "      <td>Fort Pierce</td>\n",
       "      <td>5.1</td>\n",
       "      <td>Meal/Entertain</td>\n",
       "    </tr>\n",
       "    <tr>\n",
       "      <th>1</th>\n",
       "      <td>1/2/2016 1:25</td>\n",
       "      <td>1/2/2016 1:37</td>\n",
       "      <td>Business</td>\n",
       "      <td>Fort Pierce</td>\n",
       "      <td>Fort Pierce</td>\n",
       "      <td>5.0</td>\n",
       "      <td>NaN</td>\n",
       "    </tr>\n",
       "    <tr>\n",
       "      <th>2</th>\n",
       "      <td>1/2/2016 20:25</td>\n",
       "      <td>1/2/2016 20:38</td>\n",
       "      <td>Business</td>\n",
       "      <td>Fort Pierce</td>\n",
       "      <td>Fort Pierce</td>\n",
       "      <td>4.8</td>\n",
       "      <td>Errand/Supplies</td>\n",
       "    </tr>\n",
       "    <tr>\n",
       "      <th>3</th>\n",
       "      <td>1/5/2016 17:31</td>\n",
       "      <td>1/5/2016 17:45</td>\n",
       "      <td>Business</td>\n",
       "      <td>Fort Pierce</td>\n",
       "      <td>Fort Pierce</td>\n",
       "      <td>4.7</td>\n",
       "      <td>Meeting</td>\n",
       "    </tr>\n",
       "    <tr>\n",
       "      <th>4</th>\n",
       "      <td>1/6/2016 14:42</td>\n",
       "      <td>1/6/2016 15:49</td>\n",
       "      <td>Business</td>\n",
       "      <td>Fort Pierce</td>\n",
       "      <td>West Palm Beach</td>\n",
       "      <td>63.7</td>\n",
       "      <td>Customer Visit</td>\n",
       "    </tr>\n",
       "  </tbody>\n",
       "</table>\n",
       "</div>"
      ],
      "text/plain": [
       "      START_DATE*       END_DATE* CATEGORY*       START*            STOP*  \\\n",
       "0  1/1/2016 21:11  1/1/2016 21:17  Business  Fort Pierce      Fort Pierce   \n",
       "1   1/2/2016 1:25   1/2/2016 1:37  Business  Fort Pierce      Fort Pierce   \n",
       "2  1/2/2016 20:25  1/2/2016 20:38  Business  Fort Pierce      Fort Pierce   \n",
       "3  1/5/2016 17:31  1/5/2016 17:45  Business  Fort Pierce      Fort Pierce   \n",
       "4  1/6/2016 14:42  1/6/2016 15:49  Business  Fort Pierce  West Palm Beach   \n",
       "\n",
       "   MILES*         PURPOSE*  \n",
       "0     5.1   Meal/Entertain  \n",
       "1     5.0              NaN  \n",
       "2     4.8  Errand/Supplies  \n",
       "3     4.7          Meeting  \n",
       "4    63.7   Customer Visit  "
      ]
     },
     "execution_count": 4,
     "metadata": {},
     "output_type": "execute_result"
    }
   ],
   "source": [
    "UberData.head()"
   ]
  },
  {
   "cell_type": "code",
   "execution_count": 5,
   "metadata": {},
   "outputs": [
    {
     "data": {
      "text/html": [
       "<div>\n",
       "<style scoped>\n",
       "    .dataframe tbody tr th:only-of-type {\n",
       "        vertical-align: middle;\n",
       "    }\n",
       "\n",
       "    .dataframe tbody tr th {\n",
       "        vertical-align: top;\n",
       "    }\n",
       "\n",
       "    .dataframe thead th {\n",
       "        text-align: right;\n",
       "    }\n",
       "</style>\n",
       "<table border=\"1\" class=\"dataframe\">\n",
       "  <thead>\n",
       "    <tr style=\"text-align: right;\">\n",
       "      <th></th>\n",
       "      <th>START_DATE*</th>\n",
       "      <th>END_DATE*</th>\n",
       "      <th>CATEGORY*</th>\n",
       "      <th>START*</th>\n",
       "      <th>STOP*</th>\n",
       "      <th>MILES*</th>\n",
       "      <th>PURPOSE*</th>\n",
       "    </tr>\n",
       "  </thead>\n",
       "  <tbody>\n",
       "    <tr>\n",
       "      <th>1151</th>\n",
       "      <td>12/31/2016 13:24</td>\n",
       "      <td>12/31/2016 13:42</td>\n",
       "      <td>Business</td>\n",
       "      <td>Kar?chi</td>\n",
       "      <td>Unknown Location</td>\n",
       "      <td>3.9</td>\n",
       "      <td>Temporary Site</td>\n",
       "    </tr>\n",
       "    <tr>\n",
       "      <th>1152</th>\n",
       "      <td>12/31/2016 15:03</td>\n",
       "      <td>12/31/2016 15:38</td>\n",
       "      <td>Business</td>\n",
       "      <td>Unknown Location</td>\n",
       "      <td>Unknown Location</td>\n",
       "      <td>16.2</td>\n",
       "      <td>Meeting</td>\n",
       "    </tr>\n",
       "    <tr>\n",
       "      <th>1153</th>\n",
       "      <td>12/31/2016 21:32</td>\n",
       "      <td>12/31/2016 21:50</td>\n",
       "      <td>Business</td>\n",
       "      <td>Katunayake</td>\n",
       "      <td>Gampaha</td>\n",
       "      <td>6.4</td>\n",
       "      <td>Temporary Site</td>\n",
       "    </tr>\n",
       "    <tr>\n",
       "      <th>1154</th>\n",
       "      <td>12/31/2016 22:08</td>\n",
       "      <td>12/31/2016 23:51</td>\n",
       "      <td>Business</td>\n",
       "      <td>Gampaha</td>\n",
       "      <td>Ilukwatta</td>\n",
       "      <td>48.2</td>\n",
       "      <td>Temporary Site</td>\n",
       "    </tr>\n",
       "    <tr>\n",
       "      <th>1155</th>\n",
       "      <td>Totals</td>\n",
       "      <td>NaN</td>\n",
       "      <td>NaN</td>\n",
       "      <td>NaN</td>\n",
       "      <td>NaN</td>\n",
       "      <td>12204.7</td>\n",
       "      <td>NaN</td>\n",
       "    </tr>\n",
       "  </tbody>\n",
       "</table>\n",
       "</div>"
      ],
      "text/plain": [
       "           START_DATE*         END_DATE* CATEGORY*            START*  \\\n",
       "1151  12/31/2016 13:24  12/31/2016 13:42  Business           Kar?chi   \n",
       "1152  12/31/2016 15:03  12/31/2016 15:38  Business  Unknown Location   \n",
       "1153  12/31/2016 21:32  12/31/2016 21:50  Business        Katunayake   \n",
       "1154  12/31/2016 22:08  12/31/2016 23:51  Business           Gampaha   \n",
       "1155            Totals               NaN       NaN               NaN   \n",
       "\n",
       "                 STOP*   MILES*        PURPOSE*  \n",
       "1151  Unknown Location      3.9  Temporary Site  \n",
       "1152  Unknown Location     16.2         Meeting  \n",
       "1153           Gampaha      6.4  Temporary Site  \n",
       "1154         Ilukwatta     48.2  Temporary Site  \n",
       "1155               NaN  12204.7             NaN  "
      ]
     },
     "execution_count": 5,
     "metadata": {},
     "output_type": "execute_result"
    }
   ],
   "source": [
    "UberData.tail()"
   ]
  },
  {
   "cell_type": "markdown",
   "metadata": {},
   "source": [
    "#### 2. Delete the last row as it has got totals and NaNs"
   ]
  },
  {
   "cell_type": "code",
   "execution_count": 6,
   "metadata": {},
   "outputs": [],
   "source": [
    "UberData.drop([1155], axis = 0, inplace = True)"
   ]
  },
  {
   "cell_type": "code",
   "execution_count": 7,
   "metadata": {},
   "outputs": [
    {
     "data": {
      "text/plain": [
       "(1155, 7)"
      ]
     },
     "execution_count": 7,
     "metadata": {},
     "output_type": "execute_result"
    }
   ],
   "source": [
    "UberData.shape"
   ]
  },
  {
   "cell_type": "code",
   "execution_count": 8,
   "metadata": {},
   "outputs": [
    {
     "data": {
      "text/html": [
       "<div>\n",
       "<style scoped>\n",
       "    .dataframe tbody tr th:only-of-type {\n",
       "        vertical-align: middle;\n",
       "    }\n",
       "\n",
       "    .dataframe tbody tr th {\n",
       "        vertical-align: top;\n",
       "    }\n",
       "\n",
       "    .dataframe thead th {\n",
       "        text-align: right;\n",
       "    }\n",
       "</style>\n",
       "<table border=\"1\" class=\"dataframe\">\n",
       "  <thead>\n",
       "    <tr style=\"text-align: right;\">\n",
       "      <th></th>\n",
       "      <th>START_DATE*</th>\n",
       "      <th>END_DATE*</th>\n",
       "      <th>CATEGORY*</th>\n",
       "      <th>START*</th>\n",
       "      <th>STOP*</th>\n",
       "      <th>MILES*</th>\n",
       "      <th>PURPOSE*</th>\n",
       "    </tr>\n",
       "  </thead>\n",
       "  <tbody>\n",
       "    <tr>\n",
       "      <th>1150</th>\n",
       "      <td>12/31/2016 1:07</td>\n",
       "      <td>12/31/2016 1:14</td>\n",
       "      <td>Business</td>\n",
       "      <td>Kar?chi</td>\n",
       "      <td>Kar?chi</td>\n",
       "      <td>0.7</td>\n",
       "      <td>Meeting</td>\n",
       "    </tr>\n",
       "    <tr>\n",
       "      <th>1151</th>\n",
       "      <td>12/31/2016 13:24</td>\n",
       "      <td>12/31/2016 13:42</td>\n",
       "      <td>Business</td>\n",
       "      <td>Kar?chi</td>\n",
       "      <td>Unknown Location</td>\n",
       "      <td>3.9</td>\n",
       "      <td>Temporary Site</td>\n",
       "    </tr>\n",
       "    <tr>\n",
       "      <th>1152</th>\n",
       "      <td>12/31/2016 15:03</td>\n",
       "      <td>12/31/2016 15:38</td>\n",
       "      <td>Business</td>\n",
       "      <td>Unknown Location</td>\n",
       "      <td>Unknown Location</td>\n",
       "      <td>16.2</td>\n",
       "      <td>Meeting</td>\n",
       "    </tr>\n",
       "    <tr>\n",
       "      <th>1153</th>\n",
       "      <td>12/31/2016 21:32</td>\n",
       "      <td>12/31/2016 21:50</td>\n",
       "      <td>Business</td>\n",
       "      <td>Katunayake</td>\n",
       "      <td>Gampaha</td>\n",
       "      <td>6.4</td>\n",
       "      <td>Temporary Site</td>\n",
       "    </tr>\n",
       "    <tr>\n",
       "      <th>1154</th>\n",
       "      <td>12/31/2016 22:08</td>\n",
       "      <td>12/31/2016 23:51</td>\n",
       "      <td>Business</td>\n",
       "      <td>Gampaha</td>\n",
       "      <td>Ilukwatta</td>\n",
       "      <td>48.2</td>\n",
       "      <td>Temporary Site</td>\n",
       "    </tr>\n",
       "  </tbody>\n",
       "</table>\n",
       "</div>"
      ],
      "text/plain": [
       "           START_DATE*         END_DATE* CATEGORY*            START*  \\\n",
       "1150   12/31/2016 1:07   12/31/2016 1:14  Business           Kar?chi   \n",
       "1151  12/31/2016 13:24  12/31/2016 13:42  Business           Kar?chi   \n",
       "1152  12/31/2016 15:03  12/31/2016 15:38  Business  Unknown Location   \n",
       "1153  12/31/2016 21:32  12/31/2016 21:50  Business        Katunayake   \n",
       "1154  12/31/2016 22:08  12/31/2016 23:51  Business           Gampaha   \n",
       "\n",
       "                 STOP*  MILES*        PURPOSE*  \n",
       "1150           Kar?chi     0.7         Meeting  \n",
       "1151  Unknown Location     3.9  Temporary Site  \n",
       "1152  Unknown Location    16.2         Meeting  \n",
       "1153           Gampaha     6.4  Temporary Site  \n",
       "1154         Ilukwatta    48.2  Temporary Site  "
      ]
     },
     "execution_count": 8,
     "metadata": {},
     "output_type": "execute_result"
    }
   ],
   "source": [
    "UberData.tail()"
   ]
  },
  {
   "cell_type": "markdown",
   "metadata": {},
   "source": [
    "#### 3. Check for any missing values in the DataFrame"
   ]
  },
  {
   "cell_type": "code",
   "execution_count": 9,
   "metadata": {},
   "outputs": [
    {
     "name": "stdout",
     "output_type": "stream",
     "text": [
      "<class 'pandas.core.frame.DataFrame'>\n",
      "Int64Index: 1155 entries, 0 to 1154\n",
      "Data columns (total 7 columns):\n",
      " #   Column       Non-Null Count  Dtype  \n",
      "---  ------       --------------  -----  \n",
      " 0   START_DATE*  1155 non-null   object \n",
      " 1   END_DATE*    1155 non-null   object \n",
      " 2   CATEGORY*    1155 non-null   object \n",
      " 3   START*       1155 non-null   object \n",
      " 4   STOP*        1155 non-null   object \n",
      " 5   MILES*       1155 non-null   float64\n",
      " 6   PURPOSE*     653 non-null    object \n",
      "dtypes: float64(1), object(6)\n",
      "memory usage: 72.2+ KB\n"
     ]
    }
   ],
   "source": [
    "UberData.info()"
   ]
  },
  {
   "cell_type": "markdown",
   "metadata": {},
   "source": [
    "##### From the above result we can see nulls are present only in the 'Purpose' column."
   ]
  },
  {
   "cell_type": "code",
   "execution_count": 10,
   "metadata": {},
   "outputs": [
    {
     "data": {
      "text/plain": [
       "array(['Business', 'Personal'], dtype=object)"
      ]
     },
     "execution_count": 10,
     "metadata": {},
     "output_type": "execute_result"
    }
   ],
   "source": [
    "UberData['CATEGORY*'].unique()"
   ]
  },
  {
   "cell_type": "code",
   "execution_count": 11,
   "metadata": {},
   "outputs": [
    {
     "data": {
      "text/plain": [
       "array(['Meal/Entertain', nan, 'Errand/Supplies', 'Meeting',\n",
       "       'Customer Visit', 'Temporary Site', 'Between Offices',\n",
       "       'Charity ($)', 'Commute', 'Moving', 'Airport/Travel'], dtype=object)"
      ]
     },
     "execution_count": 11,
     "metadata": {},
     "output_type": "execute_result"
    }
   ],
   "source": [
    "UberData['PURPOSE*'].unique()"
   ]
  },
  {
   "cell_type": "markdown",
   "metadata": {},
   "source": [
    "#### 4. Convert Start Date and End Date columns to DateTime Format.Split Start Date into Start Date and Start Time columns. Similarly split End Date into End Date and End Time columns. "
   ]
  },
  {
   "cell_type": "code",
   "execution_count": 12,
   "metadata": {},
   "outputs": [],
   "source": [
    "UberData['START_DATE*'] = pd.to_datetime(UberData['START_DATE*'])\n",
    "UberData['END_DATE*'] = pd.to_datetime(UberData['END_DATE*'])"
   ]
  },
  {
   "cell_type": "code",
   "execution_count": 13,
   "metadata": {},
   "outputs": [
    {
     "name": "stdout",
     "output_type": "stream",
     "text": [
      "<class 'pandas.core.frame.DataFrame'>\n",
      "Int64Index: 1155 entries, 0 to 1154\n",
      "Data columns (total 7 columns):\n",
      " #   Column       Non-Null Count  Dtype         \n",
      "---  ------       --------------  -----         \n",
      " 0   START_DATE*  1155 non-null   datetime64[ns]\n",
      " 1   END_DATE*    1155 non-null   datetime64[ns]\n",
      " 2   CATEGORY*    1155 non-null   object        \n",
      " 3   START*       1155 non-null   object        \n",
      " 4   STOP*        1155 non-null   object        \n",
      " 5   MILES*       1155 non-null   float64       \n",
      " 6   PURPOSE*     653 non-null    object        \n",
      "dtypes: datetime64[ns](2), float64(1), object(4)\n",
      "memory usage: 72.2+ KB\n"
     ]
    }
   ],
   "source": [
    "UberData.info()"
   ]
  },
  {
   "cell_type": "code",
   "execution_count": 14,
   "metadata": {},
   "outputs": [
    {
     "data": {
      "text/html": [
       "<div>\n",
       "<style scoped>\n",
       "    .dataframe tbody tr th:only-of-type {\n",
       "        vertical-align: middle;\n",
       "    }\n",
       "\n",
       "    .dataframe tbody tr th {\n",
       "        vertical-align: top;\n",
       "    }\n",
       "\n",
       "    .dataframe thead th {\n",
       "        text-align: right;\n",
       "    }\n",
       "</style>\n",
       "<table border=\"1\" class=\"dataframe\">\n",
       "  <thead>\n",
       "    <tr style=\"text-align: right;\">\n",
       "      <th></th>\n",
       "      <th>START_DATE*</th>\n",
       "      <th>END_DATE*</th>\n",
       "      <th>CATEGORY*</th>\n",
       "      <th>START*</th>\n",
       "      <th>STOP*</th>\n",
       "      <th>MILES*</th>\n",
       "      <th>PURPOSE*</th>\n",
       "      <th>Start Date</th>\n",
       "      <th>Start Time</th>\n",
       "    </tr>\n",
       "  </thead>\n",
       "  <tbody>\n",
       "    <tr>\n",
       "      <th>0</th>\n",
       "      <td>2016-01-01 21:11:00</td>\n",
       "      <td>2016-01-01 21:17:00</td>\n",
       "      <td>Business</td>\n",
       "      <td>Fort Pierce</td>\n",
       "      <td>Fort Pierce</td>\n",
       "      <td>5.1</td>\n",
       "      <td>Meal/Entertain</td>\n",
       "      <td>2016-01-01</td>\n",
       "      <td>21:11:00</td>\n",
       "    </tr>\n",
       "    <tr>\n",
       "      <th>1</th>\n",
       "      <td>2016-01-02 01:25:00</td>\n",
       "      <td>2016-01-02 01:37:00</td>\n",
       "      <td>Business</td>\n",
       "      <td>Fort Pierce</td>\n",
       "      <td>Fort Pierce</td>\n",
       "      <td>5.0</td>\n",
       "      <td>NaN</td>\n",
       "      <td>2016-01-02</td>\n",
       "      <td>01:25:00</td>\n",
       "    </tr>\n",
       "    <tr>\n",
       "      <th>2</th>\n",
       "      <td>2016-01-02 20:25:00</td>\n",
       "      <td>2016-01-02 20:38:00</td>\n",
       "      <td>Business</td>\n",
       "      <td>Fort Pierce</td>\n",
       "      <td>Fort Pierce</td>\n",
       "      <td>4.8</td>\n",
       "      <td>Errand/Supplies</td>\n",
       "      <td>2016-01-02</td>\n",
       "      <td>20:25:00</td>\n",
       "    </tr>\n",
       "    <tr>\n",
       "      <th>3</th>\n",
       "      <td>2016-01-05 17:31:00</td>\n",
       "      <td>2016-01-05 17:45:00</td>\n",
       "      <td>Business</td>\n",
       "      <td>Fort Pierce</td>\n",
       "      <td>Fort Pierce</td>\n",
       "      <td>4.7</td>\n",
       "      <td>Meeting</td>\n",
       "      <td>2016-01-05</td>\n",
       "      <td>17:31:00</td>\n",
       "    </tr>\n",
       "    <tr>\n",
       "      <th>4</th>\n",
       "      <td>2016-01-06 14:42:00</td>\n",
       "      <td>2016-01-06 15:49:00</td>\n",
       "      <td>Business</td>\n",
       "      <td>Fort Pierce</td>\n",
       "      <td>West Palm Beach</td>\n",
       "      <td>63.7</td>\n",
       "      <td>Customer Visit</td>\n",
       "      <td>2016-01-06</td>\n",
       "      <td>14:42:00</td>\n",
       "    </tr>\n",
       "  </tbody>\n",
       "</table>\n",
       "</div>"
      ],
      "text/plain": [
       "          START_DATE*           END_DATE* CATEGORY*       START*  \\\n",
       "0 2016-01-01 21:11:00 2016-01-01 21:17:00  Business  Fort Pierce   \n",
       "1 2016-01-02 01:25:00 2016-01-02 01:37:00  Business  Fort Pierce   \n",
       "2 2016-01-02 20:25:00 2016-01-02 20:38:00  Business  Fort Pierce   \n",
       "3 2016-01-05 17:31:00 2016-01-05 17:45:00  Business  Fort Pierce   \n",
       "4 2016-01-06 14:42:00 2016-01-06 15:49:00  Business  Fort Pierce   \n",
       "\n",
       "             STOP*  MILES*         PURPOSE*  Start Date Start Time  \n",
       "0      Fort Pierce     5.1   Meal/Entertain  2016-01-01   21:11:00  \n",
       "1      Fort Pierce     5.0              NaN  2016-01-02   01:25:00  \n",
       "2      Fort Pierce     4.8  Errand/Supplies  2016-01-02   20:25:00  \n",
       "3      Fort Pierce     4.7          Meeting  2016-01-05   17:31:00  \n",
       "4  West Palm Beach    63.7   Customer Visit  2016-01-06   14:42:00  "
      ]
     },
     "execution_count": 14,
     "metadata": {},
     "output_type": "execute_result"
    }
   ],
   "source": [
    "UberData['Start Date'] = UberData['START_DATE*'].dt.date\n",
    "UberData['Start Time'] = UberData['START_DATE*'].dt.time\n",
    "UberData.head()"
   ]
  },
  {
   "cell_type": "markdown",
   "metadata": {},
   "source": [
    "#### In the recording there is another method see that also"
   ]
  },
  {
   "cell_type": "code",
   "execution_count": 15,
   "metadata": {},
   "outputs": [
    {
     "data": {
      "text/html": [
       "<div>\n",
       "<style scoped>\n",
       "    .dataframe tbody tr th:only-of-type {\n",
       "        vertical-align: middle;\n",
       "    }\n",
       "\n",
       "    .dataframe tbody tr th {\n",
       "        vertical-align: top;\n",
       "    }\n",
       "\n",
       "    .dataframe thead th {\n",
       "        text-align: right;\n",
       "    }\n",
       "</style>\n",
       "<table border=\"1\" class=\"dataframe\">\n",
       "  <thead>\n",
       "    <tr style=\"text-align: right;\">\n",
       "      <th></th>\n",
       "      <th>START_DATE*</th>\n",
       "      <th>END_DATE*</th>\n",
       "      <th>CATEGORY*</th>\n",
       "      <th>START*</th>\n",
       "      <th>STOP*</th>\n",
       "      <th>MILES*</th>\n",
       "      <th>PURPOSE*</th>\n",
       "      <th>Start Date</th>\n",
       "      <th>Start Time</th>\n",
       "      <th>End Date</th>\n",
       "      <th>End Time</th>\n",
       "    </tr>\n",
       "  </thead>\n",
       "  <tbody>\n",
       "    <tr>\n",
       "      <th>0</th>\n",
       "      <td>2016-01-01 21:11:00</td>\n",
       "      <td>2016-01-01 21:17:00</td>\n",
       "      <td>Business</td>\n",
       "      <td>Fort Pierce</td>\n",
       "      <td>Fort Pierce</td>\n",
       "      <td>5.1</td>\n",
       "      <td>Meal/Entertain</td>\n",
       "      <td>2016-01-01</td>\n",
       "      <td>21:11:00</td>\n",
       "      <td>2016-01-01</td>\n",
       "      <td>21:17:00</td>\n",
       "    </tr>\n",
       "    <tr>\n",
       "      <th>1</th>\n",
       "      <td>2016-01-02 01:25:00</td>\n",
       "      <td>2016-01-02 01:37:00</td>\n",
       "      <td>Business</td>\n",
       "      <td>Fort Pierce</td>\n",
       "      <td>Fort Pierce</td>\n",
       "      <td>5.0</td>\n",
       "      <td>NaN</td>\n",
       "      <td>2016-01-02</td>\n",
       "      <td>01:25:00</td>\n",
       "      <td>2016-01-02</td>\n",
       "      <td>01:37:00</td>\n",
       "    </tr>\n",
       "    <tr>\n",
       "      <th>2</th>\n",
       "      <td>2016-01-02 20:25:00</td>\n",
       "      <td>2016-01-02 20:38:00</td>\n",
       "      <td>Business</td>\n",
       "      <td>Fort Pierce</td>\n",
       "      <td>Fort Pierce</td>\n",
       "      <td>4.8</td>\n",
       "      <td>Errand/Supplies</td>\n",
       "      <td>2016-01-02</td>\n",
       "      <td>20:25:00</td>\n",
       "      <td>2016-01-02</td>\n",
       "      <td>20:38:00</td>\n",
       "    </tr>\n",
       "    <tr>\n",
       "      <th>3</th>\n",
       "      <td>2016-01-05 17:31:00</td>\n",
       "      <td>2016-01-05 17:45:00</td>\n",
       "      <td>Business</td>\n",
       "      <td>Fort Pierce</td>\n",
       "      <td>Fort Pierce</td>\n",
       "      <td>4.7</td>\n",
       "      <td>Meeting</td>\n",
       "      <td>2016-01-05</td>\n",
       "      <td>17:31:00</td>\n",
       "      <td>2016-01-05</td>\n",
       "      <td>17:45:00</td>\n",
       "    </tr>\n",
       "    <tr>\n",
       "      <th>4</th>\n",
       "      <td>2016-01-06 14:42:00</td>\n",
       "      <td>2016-01-06 15:49:00</td>\n",
       "      <td>Business</td>\n",
       "      <td>Fort Pierce</td>\n",
       "      <td>West Palm Beach</td>\n",
       "      <td>63.7</td>\n",
       "      <td>Customer Visit</td>\n",
       "      <td>2016-01-06</td>\n",
       "      <td>14:42:00</td>\n",
       "      <td>2016-01-06</td>\n",
       "      <td>15:49:00</td>\n",
       "    </tr>\n",
       "  </tbody>\n",
       "</table>\n",
       "</div>"
      ],
      "text/plain": [
       "          START_DATE*           END_DATE* CATEGORY*       START*  \\\n",
       "0 2016-01-01 21:11:00 2016-01-01 21:17:00  Business  Fort Pierce   \n",
       "1 2016-01-02 01:25:00 2016-01-02 01:37:00  Business  Fort Pierce   \n",
       "2 2016-01-02 20:25:00 2016-01-02 20:38:00  Business  Fort Pierce   \n",
       "3 2016-01-05 17:31:00 2016-01-05 17:45:00  Business  Fort Pierce   \n",
       "4 2016-01-06 14:42:00 2016-01-06 15:49:00  Business  Fort Pierce   \n",
       "\n",
       "             STOP*  MILES*         PURPOSE*  Start Date Start Time  \\\n",
       "0      Fort Pierce     5.1   Meal/Entertain  2016-01-01   21:11:00   \n",
       "1      Fort Pierce     5.0              NaN  2016-01-02   01:25:00   \n",
       "2      Fort Pierce     4.8  Errand/Supplies  2016-01-02   20:25:00   \n",
       "3      Fort Pierce     4.7          Meeting  2016-01-05   17:31:00   \n",
       "4  West Palm Beach    63.7   Customer Visit  2016-01-06   14:42:00   \n",
       "\n",
       "     End Date  End Time  \n",
       "0  2016-01-01  21:17:00  \n",
       "1  2016-01-02  01:37:00  \n",
       "2  2016-01-02  20:38:00  \n",
       "3  2016-01-05  17:45:00  \n",
       "4  2016-01-06  15:49:00  "
      ]
     },
     "execution_count": 15,
     "metadata": {},
     "output_type": "execute_result"
    }
   ],
   "source": [
    "UberData['End Date'] = UberData['END_DATE*'].dt.date\n",
    "UberData['End Time'] = UberData['END_DATE*'].dt.time\n",
    "UberData.head()"
   ]
  },
  {
   "cell_type": "code",
   "execution_count": 16,
   "metadata": {},
   "outputs": [
    {
     "name": "stdout",
     "output_type": "stream",
     "text": [
      "<class 'pandas.core.frame.DataFrame'>\n",
      "Int64Index: 1155 entries, 0 to 1154\n",
      "Data columns (total 11 columns):\n",
      " #   Column       Non-Null Count  Dtype         \n",
      "---  ------       --------------  -----         \n",
      " 0   START_DATE*  1155 non-null   datetime64[ns]\n",
      " 1   END_DATE*    1155 non-null   datetime64[ns]\n",
      " 2   CATEGORY*    1155 non-null   object        \n",
      " 3   START*       1155 non-null   object        \n",
      " 4   STOP*        1155 non-null   object        \n",
      " 5   MILES*       1155 non-null   float64       \n",
      " 6   PURPOSE*     653 non-null    object        \n",
      " 7   Start Date   1155 non-null   object        \n",
      " 8   Start Time   1155 non-null   object        \n",
      " 9   End Date     1155 non-null   object        \n",
      " 10  End Time     1155 non-null   object        \n",
      "dtypes: datetime64[ns](2), float64(1), object(8)\n",
      "memory usage: 108.3+ KB\n"
     ]
    }
   ],
   "source": [
    "UberData.info()"
   ]
  },
  {
   "cell_type": "markdown",
   "metadata": {},
   "source": [
    "#### 5.  Add a column 'Weekday' which stores the day of the week that the trip took place. The values of this feature vary from 0 to 6, where 0 represents Monday and 6 represents Sunday.\n"
   ]
  },
  {
   "cell_type": "code",
   "execution_count": 17,
   "metadata": {},
   "outputs": [
    {
     "data": {
      "text/html": [
       "<div>\n",
       "<style scoped>\n",
       "    .dataframe tbody tr th:only-of-type {\n",
       "        vertical-align: middle;\n",
       "    }\n",
       "\n",
       "    .dataframe tbody tr th {\n",
       "        vertical-align: top;\n",
       "    }\n",
       "\n",
       "    .dataframe thead th {\n",
       "        text-align: right;\n",
       "    }\n",
       "</style>\n",
       "<table border=\"1\" class=\"dataframe\">\n",
       "  <thead>\n",
       "    <tr style=\"text-align: right;\">\n",
       "      <th></th>\n",
       "      <th>START_DATE*</th>\n",
       "      <th>END_DATE*</th>\n",
       "      <th>CATEGORY*</th>\n",
       "      <th>START*</th>\n",
       "      <th>STOP*</th>\n",
       "      <th>MILES*</th>\n",
       "      <th>PURPOSE*</th>\n",
       "      <th>Start Date</th>\n",
       "      <th>Start Time</th>\n",
       "      <th>End Date</th>\n",
       "      <th>End Time</th>\n",
       "      <th>Weekday</th>\n",
       "    </tr>\n",
       "  </thead>\n",
       "  <tbody>\n",
       "    <tr>\n",
       "      <th>0</th>\n",
       "      <td>2016-01-01 21:11:00</td>\n",
       "      <td>2016-01-01 21:17:00</td>\n",
       "      <td>Business</td>\n",
       "      <td>Fort Pierce</td>\n",
       "      <td>Fort Pierce</td>\n",
       "      <td>5.1</td>\n",
       "      <td>Meal/Entertain</td>\n",
       "      <td>2016-01-01</td>\n",
       "      <td>21:11:00</td>\n",
       "      <td>2016-01-01</td>\n",
       "      <td>21:17:00</td>\n",
       "      <td>4</td>\n",
       "    </tr>\n",
       "    <tr>\n",
       "      <th>1</th>\n",
       "      <td>2016-01-02 01:25:00</td>\n",
       "      <td>2016-01-02 01:37:00</td>\n",
       "      <td>Business</td>\n",
       "      <td>Fort Pierce</td>\n",
       "      <td>Fort Pierce</td>\n",
       "      <td>5.0</td>\n",
       "      <td>NaN</td>\n",
       "      <td>2016-01-02</td>\n",
       "      <td>01:25:00</td>\n",
       "      <td>2016-01-02</td>\n",
       "      <td>01:37:00</td>\n",
       "      <td>5</td>\n",
       "    </tr>\n",
       "    <tr>\n",
       "      <th>2</th>\n",
       "      <td>2016-01-02 20:25:00</td>\n",
       "      <td>2016-01-02 20:38:00</td>\n",
       "      <td>Business</td>\n",
       "      <td>Fort Pierce</td>\n",
       "      <td>Fort Pierce</td>\n",
       "      <td>4.8</td>\n",
       "      <td>Errand/Supplies</td>\n",
       "      <td>2016-01-02</td>\n",
       "      <td>20:25:00</td>\n",
       "      <td>2016-01-02</td>\n",
       "      <td>20:38:00</td>\n",
       "      <td>5</td>\n",
       "    </tr>\n",
       "    <tr>\n",
       "      <th>3</th>\n",
       "      <td>2016-01-05 17:31:00</td>\n",
       "      <td>2016-01-05 17:45:00</td>\n",
       "      <td>Business</td>\n",
       "      <td>Fort Pierce</td>\n",
       "      <td>Fort Pierce</td>\n",
       "      <td>4.7</td>\n",
       "      <td>Meeting</td>\n",
       "      <td>2016-01-05</td>\n",
       "      <td>17:31:00</td>\n",
       "      <td>2016-01-05</td>\n",
       "      <td>17:45:00</td>\n",
       "      <td>1</td>\n",
       "    </tr>\n",
       "    <tr>\n",
       "      <th>4</th>\n",
       "      <td>2016-01-06 14:42:00</td>\n",
       "      <td>2016-01-06 15:49:00</td>\n",
       "      <td>Business</td>\n",
       "      <td>Fort Pierce</td>\n",
       "      <td>West Palm Beach</td>\n",
       "      <td>63.7</td>\n",
       "      <td>Customer Visit</td>\n",
       "      <td>2016-01-06</td>\n",
       "      <td>14:42:00</td>\n",
       "      <td>2016-01-06</td>\n",
       "      <td>15:49:00</td>\n",
       "      <td>2</td>\n",
       "    </tr>\n",
       "  </tbody>\n",
       "</table>\n",
       "</div>"
      ],
      "text/plain": [
       "          START_DATE*           END_DATE* CATEGORY*       START*  \\\n",
       "0 2016-01-01 21:11:00 2016-01-01 21:17:00  Business  Fort Pierce   \n",
       "1 2016-01-02 01:25:00 2016-01-02 01:37:00  Business  Fort Pierce   \n",
       "2 2016-01-02 20:25:00 2016-01-02 20:38:00  Business  Fort Pierce   \n",
       "3 2016-01-05 17:31:00 2016-01-05 17:45:00  Business  Fort Pierce   \n",
       "4 2016-01-06 14:42:00 2016-01-06 15:49:00  Business  Fort Pierce   \n",
       "\n",
       "             STOP*  MILES*         PURPOSE*  Start Date Start Time  \\\n",
       "0      Fort Pierce     5.1   Meal/Entertain  2016-01-01   21:11:00   \n",
       "1      Fort Pierce     5.0              NaN  2016-01-02   01:25:00   \n",
       "2      Fort Pierce     4.8  Errand/Supplies  2016-01-02   20:25:00   \n",
       "3      Fort Pierce     4.7          Meeting  2016-01-05   17:31:00   \n",
       "4  West Palm Beach    63.7   Customer Visit  2016-01-06   14:42:00   \n",
       "\n",
       "     End Date  End Time  Weekday  \n",
       "0  2016-01-01  21:17:00        4  \n",
       "1  2016-01-02  01:37:00        5  \n",
       "2  2016-01-02  20:38:00        5  \n",
       "3  2016-01-05  17:45:00        1  \n",
       "4  2016-01-06  15:49:00        2  "
      ]
     },
     "execution_count": 17,
     "metadata": {},
     "output_type": "execute_result"
    }
   ],
   "source": [
    "UberData['Weekday'] = UberData['START_DATE*'].apply(lambda x: x.dayofweek)\n",
    "UberData.head()"
   ]
  },
  {
   "cell_type": "code",
   "execution_count": null,
   "metadata": {},
   "outputs": [],
   "source": [
    "### For another method see the video recording"
   ]
  },
  {
   "cell_type": "code",
   "execution_count": 18,
   "metadata": {},
   "outputs": [
    {
     "name": "stdout",
     "output_type": "stream",
     "text": [
      "<class 'pandas.core.frame.DataFrame'>\n",
      "Int64Index: 1155 entries, 0 to 1154\n",
      "Data columns (total 12 columns):\n",
      " #   Column       Non-Null Count  Dtype         \n",
      "---  ------       --------------  -----         \n",
      " 0   START_DATE*  1155 non-null   datetime64[ns]\n",
      " 1   END_DATE*    1155 non-null   datetime64[ns]\n",
      " 2   CATEGORY*    1155 non-null   object        \n",
      " 3   START*       1155 non-null   object        \n",
      " 4   STOP*        1155 non-null   object        \n",
      " 5   MILES*       1155 non-null   float64       \n",
      " 6   PURPOSE*     653 non-null    object        \n",
      " 7   Start Date   1155 non-null   object        \n",
      " 8   Start Time   1155 non-null   object        \n",
      " 9   End Date     1155 non-null   object        \n",
      " 10  End Time     1155 non-null   object        \n",
      " 11  Weekday      1155 non-null   int64         \n",
      "dtypes: datetime64[ns](2), float64(1), int64(1), object(8)\n",
      "memory usage: 117.3+ KB\n"
     ]
    }
   ],
   "source": [
    "UberData.info()"
   ]
  },
  {
   "cell_type": "markdown",
   "metadata": {},
   "source": [
    "#### 6. The main feature that Harsh needs to study, the time duration of the trips, is not explicitly present in the dataset. Hence, he adds a feature 'Duration' which stores the duration of the trip in minutes. It is basically the difference between the start and end times. "
   ]
  },
  {
   "cell_type": "code",
   "execution_count": 19,
   "metadata": {},
   "outputs": [
    {
     "data": {
      "text/html": [
       "<div>\n",
       "<style scoped>\n",
       "    .dataframe tbody tr th:only-of-type {\n",
       "        vertical-align: middle;\n",
       "    }\n",
       "\n",
       "    .dataframe tbody tr th {\n",
       "        vertical-align: top;\n",
       "    }\n",
       "\n",
       "    .dataframe thead th {\n",
       "        text-align: right;\n",
       "    }\n",
       "</style>\n",
       "<table border=\"1\" class=\"dataframe\">\n",
       "  <thead>\n",
       "    <tr style=\"text-align: right;\">\n",
       "      <th></th>\n",
       "      <th>START_DATE*</th>\n",
       "      <th>END_DATE*</th>\n",
       "      <th>CATEGORY*</th>\n",
       "      <th>START*</th>\n",
       "      <th>STOP*</th>\n",
       "      <th>MILES*</th>\n",
       "      <th>PURPOSE*</th>\n",
       "      <th>Start Date</th>\n",
       "      <th>Start Time</th>\n",
       "      <th>End Date</th>\n",
       "      <th>End Time</th>\n",
       "      <th>Weekday</th>\n",
       "      <th>Duration</th>\n",
       "    </tr>\n",
       "  </thead>\n",
       "  <tbody>\n",
       "    <tr>\n",
       "      <th>0</th>\n",
       "      <td>2016-01-01 21:11:00</td>\n",
       "      <td>2016-01-01 21:17:00</td>\n",
       "      <td>Business</td>\n",
       "      <td>Fort Pierce</td>\n",
       "      <td>Fort Pierce</td>\n",
       "      <td>5.1</td>\n",
       "      <td>Meal/Entertain</td>\n",
       "      <td>2016-01-01</td>\n",
       "      <td>21:11:00</td>\n",
       "      <td>2016-01-01</td>\n",
       "      <td>21:17:00</td>\n",
       "      <td>4</td>\n",
       "      <td>6.0</td>\n",
       "    </tr>\n",
       "    <tr>\n",
       "      <th>1</th>\n",
       "      <td>2016-01-02 01:25:00</td>\n",
       "      <td>2016-01-02 01:37:00</td>\n",
       "      <td>Business</td>\n",
       "      <td>Fort Pierce</td>\n",
       "      <td>Fort Pierce</td>\n",
       "      <td>5.0</td>\n",
       "      <td>NaN</td>\n",
       "      <td>2016-01-02</td>\n",
       "      <td>01:25:00</td>\n",
       "      <td>2016-01-02</td>\n",
       "      <td>01:37:00</td>\n",
       "      <td>5</td>\n",
       "      <td>12.0</td>\n",
       "    </tr>\n",
       "    <tr>\n",
       "      <th>2</th>\n",
       "      <td>2016-01-02 20:25:00</td>\n",
       "      <td>2016-01-02 20:38:00</td>\n",
       "      <td>Business</td>\n",
       "      <td>Fort Pierce</td>\n",
       "      <td>Fort Pierce</td>\n",
       "      <td>4.8</td>\n",
       "      <td>Errand/Supplies</td>\n",
       "      <td>2016-01-02</td>\n",
       "      <td>20:25:00</td>\n",
       "      <td>2016-01-02</td>\n",
       "      <td>20:38:00</td>\n",
       "      <td>5</td>\n",
       "      <td>13.0</td>\n",
       "    </tr>\n",
       "    <tr>\n",
       "      <th>3</th>\n",
       "      <td>2016-01-05 17:31:00</td>\n",
       "      <td>2016-01-05 17:45:00</td>\n",
       "      <td>Business</td>\n",
       "      <td>Fort Pierce</td>\n",
       "      <td>Fort Pierce</td>\n",
       "      <td>4.7</td>\n",
       "      <td>Meeting</td>\n",
       "      <td>2016-01-05</td>\n",
       "      <td>17:31:00</td>\n",
       "      <td>2016-01-05</td>\n",
       "      <td>17:45:00</td>\n",
       "      <td>1</td>\n",
       "      <td>14.0</td>\n",
       "    </tr>\n",
       "    <tr>\n",
       "      <th>4</th>\n",
       "      <td>2016-01-06 14:42:00</td>\n",
       "      <td>2016-01-06 15:49:00</td>\n",
       "      <td>Business</td>\n",
       "      <td>Fort Pierce</td>\n",
       "      <td>West Palm Beach</td>\n",
       "      <td>63.7</td>\n",
       "      <td>Customer Visit</td>\n",
       "      <td>2016-01-06</td>\n",
       "      <td>14:42:00</td>\n",
       "      <td>2016-01-06</td>\n",
       "      <td>15:49:00</td>\n",
       "      <td>2</td>\n",
       "      <td>67.0</td>\n",
       "    </tr>\n",
       "  </tbody>\n",
       "</table>\n",
       "</div>"
      ],
      "text/plain": [
       "          START_DATE*           END_DATE* CATEGORY*       START*  \\\n",
       "0 2016-01-01 21:11:00 2016-01-01 21:17:00  Business  Fort Pierce   \n",
       "1 2016-01-02 01:25:00 2016-01-02 01:37:00  Business  Fort Pierce   \n",
       "2 2016-01-02 20:25:00 2016-01-02 20:38:00  Business  Fort Pierce   \n",
       "3 2016-01-05 17:31:00 2016-01-05 17:45:00  Business  Fort Pierce   \n",
       "4 2016-01-06 14:42:00 2016-01-06 15:49:00  Business  Fort Pierce   \n",
       "\n",
       "             STOP*  MILES*         PURPOSE*  Start Date Start Time  \\\n",
       "0      Fort Pierce     5.1   Meal/Entertain  2016-01-01   21:11:00   \n",
       "1      Fort Pierce     5.0              NaN  2016-01-02   01:25:00   \n",
       "2      Fort Pierce     4.8  Errand/Supplies  2016-01-02   20:25:00   \n",
       "3      Fort Pierce     4.7          Meeting  2016-01-05   17:31:00   \n",
       "4  West Palm Beach    63.7   Customer Visit  2016-01-06   14:42:00   \n",
       "\n",
       "     End Date  End Time  Weekday  Duration  \n",
       "0  2016-01-01  21:17:00        4       6.0  \n",
       "1  2016-01-02  01:37:00        5      12.0  \n",
       "2  2016-01-02  20:38:00        5      13.0  \n",
       "3  2016-01-05  17:45:00        1      14.0  \n",
       "4  2016-01-06  15:49:00        2      67.0  "
      ]
     },
     "execution_count": 19,
     "metadata": {},
     "output_type": "execute_result"
    }
   ],
   "source": [
    "duration = UberData['END_DATE*'] - UberData['START_DATE*']\n",
    "UberData['Duration'] = [t.total_seconds()/60 for t in duration]   # duration in minutes\n",
    "UberData.head()"
   ]
  },
  {
   "cell_type": "code",
   "execution_count": 20,
   "metadata": {},
   "outputs": [
    {
     "name": "stdout",
     "output_type": "stream",
     "text": [
      "<class 'pandas.core.frame.DataFrame'>\n",
      "Int64Index: 1155 entries, 0 to 1154\n",
      "Data columns (total 13 columns):\n",
      " #   Column       Non-Null Count  Dtype         \n",
      "---  ------       --------------  -----         \n",
      " 0   START_DATE*  1155 non-null   datetime64[ns]\n",
      " 1   END_DATE*    1155 non-null   datetime64[ns]\n",
      " 2   CATEGORY*    1155 non-null   object        \n",
      " 3   START*       1155 non-null   object        \n",
      " 4   STOP*        1155 non-null   object        \n",
      " 5   MILES*       1155 non-null   float64       \n",
      " 6   PURPOSE*     653 non-null    object        \n",
      " 7   Start Date   1155 non-null   object        \n",
      " 8   Start Time   1155 non-null   object        \n",
      " 9   End Date     1155 non-null   object        \n",
      " 10  End Time     1155 non-null   object        \n",
      " 11  Weekday      1155 non-null   int64         \n",
      " 12  Duration     1155 non-null   float64       \n",
      "dtypes: datetime64[ns](2), float64(2), int64(1), object(8)\n",
      "memory usage: 126.3+ KB\n"
     ]
    }
   ],
   "source": [
    "UberData.info()"
   ]
  },
  {
   "cell_type": "markdown",
   "metadata": {},
   "source": [
    "#### 7. He also came to know that Jacob was out of country (USA) at 3 specific instances. The entries corresponding to the trips in countries other than the USA are deleted by him to ensure the cohesiveness of the data.\n"
   ]
  },
  {
   "cell_type": "code",
   "execution_count": 21,
   "metadata": {},
   "outputs": [],
   "source": [
    "# making 3 dataframes corresponding to 3 time intervals\n",
    "d1 = UberData[UberData['Start Date'].between(pd.to_datetime('2016-02-16'), pd.to_datetime('2016-02-21'))]\n",
    "d2 = UberData[UberData['Start Date'].between(pd.to_datetime('2016-08-15'), pd.to_datetime('2016-10-14'))]\n",
    "d3 = UberData[UberData['Start Date'].between(pd.to_datetime('2016-12-17'), pd.to_datetime('2016-12-31'))]"
   ]
  },
  {
   "cell_type": "code",
   "execution_count": 22,
   "metadata": {},
   "outputs": [
    {
     "data": {
      "text/html": [
       "<div>\n",
       "<style scoped>\n",
       "    .dataframe tbody tr th:only-of-type {\n",
       "        vertical-align: middle;\n",
       "    }\n",
       "\n",
       "    .dataframe tbody tr th {\n",
       "        vertical-align: top;\n",
       "    }\n",
       "\n",
       "    .dataframe thead th {\n",
       "        text-align: right;\n",
       "    }\n",
       "</style>\n",
       "<table border=\"1\" class=\"dataframe\">\n",
       "  <thead>\n",
       "    <tr style=\"text-align: right;\">\n",
       "      <th></th>\n",
       "      <th>START_DATE*</th>\n",
       "      <th>END_DATE*</th>\n",
       "      <th>CATEGORY*</th>\n",
       "      <th>START*</th>\n",
       "      <th>STOP*</th>\n",
       "      <th>MILES*</th>\n",
       "      <th>PURPOSE*</th>\n",
       "      <th>Start Date</th>\n",
       "      <th>Start Time</th>\n",
       "      <th>End Date</th>\n",
       "      <th>End Time</th>\n",
       "      <th>Weekday</th>\n",
       "      <th>Duration</th>\n",
       "    </tr>\n",
       "  </thead>\n",
       "  <tbody>\n",
       "    <tr>\n",
       "      <th>108</th>\n",
       "      <td>2016-02-16 03:21:00</td>\n",
       "      <td>2016-02-16 04:13:00</td>\n",
       "      <td>Business</td>\n",
       "      <td>Katunayaka</td>\n",
       "      <td>Unknown Location</td>\n",
       "      <td>43.7</td>\n",
       "      <td>Customer Visit</td>\n",
       "      <td>2016-02-16</td>\n",
       "      <td>03:21:00</td>\n",
       "      <td>2016-02-16</td>\n",
       "      <td>04:13:00</td>\n",
       "      <td>1</td>\n",
       "      <td>52.0</td>\n",
       "    </tr>\n",
       "    <tr>\n",
       "      <th>109</th>\n",
       "      <td>2016-02-16 08:29:00</td>\n",
       "      <td>2016-02-16 09:34:00</td>\n",
       "      <td>Business</td>\n",
       "      <td>Unknown Location</td>\n",
       "      <td>Colombo</td>\n",
       "      <td>14.1</td>\n",
       "      <td>NaN</td>\n",
       "      <td>2016-02-16</td>\n",
       "      <td>08:29:00</td>\n",
       "      <td>2016-02-16</td>\n",
       "      <td>09:34:00</td>\n",
       "      <td>1</td>\n",
       "      <td>65.0</td>\n",
       "    </tr>\n",
       "    <tr>\n",
       "      <th>110</th>\n",
       "      <td>2016-02-16 10:31:00</td>\n",
       "      <td>2016-02-16 10:41:00</td>\n",
       "      <td>Business</td>\n",
       "      <td>Colombo</td>\n",
       "      <td>Colombo</td>\n",
       "      <td>2.6</td>\n",
       "      <td>NaN</td>\n",
       "      <td>2016-02-16</td>\n",
       "      <td>10:31:00</td>\n",
       "      <td>2016-02-16</td>\n",
       "      <td>10:41:00</td>\n",
       "      <td>1</td>\n",
       "      <td>10.0</td>\n",
       "    </tr>\n",
       "    <tr>\n",
       "      <th>111</th>\n",
       "      <td>2016-02-16 11:32:00</td>\n",
       "      <td>2016-02-16 12:02:00</td>\n",
       "      <td>Business</td>\n",
       "      <td>Colombo</td>\n",
       "      <td>Colombo</td>\n",
       "      <td>4.5</td>\n",
       "      <td>NaN</td>\n",
       "      <td>2016-02-16</td>\n",
       "      <td>11:32:00</td>\n",
       "      <td>2016-02-16</td>\n",
       "      <td>12:02:00</td>\n",
       "      <td>1</td>\n",
       "      <td>30.0</td>\n",
       "    </tr>\n",
       "    <tr>\n",
       "      <th>112</th>\n",
       "      <td>2016-02-16 12:39:00</td>\n",
       "      <td>2016-02-16 12:42:00</td>\n",
       "      <td>Business</td>\n",
       "      <td>Colombo</td>\n",
       "      <td>Colombo</td>\n",
       "      <td>1.7</td>\n",
       "      <td>NaN</td>\n",
       "      <td>2016-02-16</td>\n",
       "      <td>12:39:00</td>\n",
       "      <td>2016-02-16</td>\n",
       "      <td>12:42:00</td>\n",
       "      <td>1</td>\n",
       "      <td>3.0</td>\n",
       "    </tr>\n",
       "    <tr>\n",
       "      <th>113</th>\n",
       "      <td>2016-02-16 13:43:00</td>\n",
       "      <td>2016-02-16 13:55:00</td>\n",
       "      <td>Business</td>\n",
       "      <td>Colombo</td>\n",
       "      <td>Colombo</td>\n",
       "      <td>1.8</td>\n",
       "      <td>Temporary Site</td>\n",
       "      <td>2016-02-16</td>\n",
       "      <td>13:43:00</td>\n",
       "      <td>2016-02-16</td>\n",
       "      <td>13:55:00</td>\n",
       "      <td>1</td>\n",
       "      <td>12.0</td>\n",
       "    </tr>\n",
       "    <tr>\n",
       "      <th>114</th>\n",
       "      <td>2016-02-16 16:34:00</td>\n",
       "      <td>2016-02-16 17:10:00</td>\n",
       "      <td>Business</td>\n",
       "      <td>Colombo</td>\n",
       "      <td>Colombo</td>\n",
       "      <td>6.0</td>\n",
       "      <td>NaN</td>\n",
       "      <td>2016-02-16</td>\n",
       "      <td>16:34:00</td>\n",
       "      <td>2016-02-16</td>\n",
       "      <td>17:10:00</td>\n",
       "      <td>1</td>\n",
       "      <td>36.0</td>\n",
       "    </tr>\n",
       "    <tr>\n",
       "      <th>115</th>\n",
       "      <td>2016-02-16 17:17:00</td>\n",
       "      <td>2016-02-16 17:26:00</td>\n",
       "      <td>Business</td>\n",
       "      <td>Colombo</td>\n",
       "      <td>Nugegoda</td>\n",
       "      <td>1.1</td>\n",
       "      <td>Meal/Entertain</td>\n",
       "      <td>2016-02-16</td>\n",
       "      <td>17:17:00</td>\n",
       "      <td>2016-02-16</td>\n",
       "      <td>17:26:00</td>\n",
       "      <td>1</td>\n",
       "      <td>9.0</td>\n",
       "    </tr>\n",
       "    <tr>\n",
       "      <th>116</th>\n",
       "      <td>2016-02-16 17:40:00</td>\n",
       "      <td>2016-02-16 17:44:00</td>\n",
       "      <td>Business</td>\n",
       "      <td>Nugegoda</td>\n",
       "      <td>Unknown Location</td>\n",
       "      <td>3.6</td>\n",
       "      <td>Errand/Supplies</td>\n",
       "      <td>2016-02-16</td>\n",
       "      <td>17:40:00</td>\n",
       "      <td>2016-02-16</td>\n",
       "      <td>17:44:00</td>\n",
       "      <td>1</td>\n",
       "      <td>4.0</td>\n",
       "    </tr>\n",
       "    <tr>\n",
       "      <th>117</th>\n",
       "      <td>2016-02-17 13:18:00</td>\n",
       "      <td>2016-02-17 14:04:00</td>\n",
       "      <td>Business</td>\n",
       "      <td>Unknown Location</td>\n",
       "      <td>Colombo</td>\n",
       "      <td>14.7</td>\n",
       "      <td>Temporary Site</td>\n",
       "      <td>2016-02-17</td>\n",
       "      <td>13:18:00</td>\n",
       "      <td>2016-02-17</td>\n",
       "      <td>14:04:00</td>\n",
       "      <td>2</td>\n",
       "      <td>46.0</td>\n",
       "    </tr>\n",
       "    <tr>\n",
       "      <th>118</th>\n",
       "      <td>2016-02-17 15:17:00</td>\n",
       "      <td>2016-02-17 15:22:00</td>\n",
       "      <td>Business</td>\n",
       "      <td>Colombo</td>\n",
       "      <td>Colombo</td>\n",
       "      <td>1.7</td>\n",
       "      <td>Meal/Entertain</td>\n",
       "      <td>2016-02-17</td>\n",
       "      <td>15:17:00</td>\n",
       "      <td>2016-02-17</td>\n",
       "      <td>15:22:00</td>\n",
       "      <td>2</td>\n",
       "      <td>5.0</td>\n",
       "    </tr>\n",
       "    <tr>\n",
       "      <th>119</th>\n",
       "      <td>2016-02-17 15:33:00</td>\n",
       "      <td>2016-02-17 16:17:00</td>\n",
       "      <td>Business</td>\n",
       "      <td>Colombo</td>\n",
       "      <td>Katunayaka</td>\n",
       "      <td>21.4</td>\n",
       "      <td>Temporary Site</td>\n",
       "      <td>2016-02-17</td>\n",
       "      <td>15:33:00</td>\n",
       "      <td>2016-02-17</td>\n",
       "      <td>16:17:00</td>\n",
       "      <td>2</td>\n",
       "      <td>44.0</td>\n",
       "    </tr>\n",
       "    <tr>\n",
       "      <th>120</th>\n",
       "      <td>2016-02-17 16:38:00</td>\n",
       "      <td>2016-02-17 16:43:00</td>\n",
       "      <td>Business</td>\n",
       "      <td>Katunayaka</td>\n",
       "      <td>Katunayaka</td>\n",
       "      <td>0.5</td>\n",
       "      <td>Errand/Supplies</td>\n",
       "      <td>2016-02-17</td>\n",
       "      <td>16:38:00</td>\n",
       "      <td>2016-02-17</td>\n",
       "      <td>16:43:00</td>\n",
       "      <td>2</td>\n",
       "      <td>5.0</td>\n",
       "    </tr>\n",
       "    <tr>\n",
       "      <th>121</th>\n",
       "      <td>2016-02-18 08:19:00</td>\n",
       "      <td>2016-02-18 08:27:00</td>\n",
       "      <td>Business</td>\n",
       "      <td>Unknown Location</td>\n",
       "      <td>Unknown Location</td>\n",
       "      <td>23.5</td>\n",
       "      <td>Temporary Site</td>\n",
       "      <td>2016-02-18</td>\n",
       "      <td>08:19:00</td>\n",
       "      <td>2016-02-18</td>\n",
       "      <td>08:27:00</td>\n",
       "      <td>3</td>\n",
       "      <td>8.0</td>\n",
       "    </tr>\n",
       "    <tr>\n",
       "      <th>122</th>\n",
       "      <td>2016-02-18 14:03:00</td>\n",
       "      <td>2016-02-18 14:45:00</td>\n",
       "      <td>Business</td>\n",
       "      <td>Unknown Location</td>\n",
       "      <td>Islamabad</td>\n",
       "      <td>12.7</td>\n",
       "      <td>Temporary Site</td>\n",
       "      <td>2016-02-18</td>\n",
       "      <td>14:03:00</td>\n",
       "      <td>2016-02-18</td>\n",
       "      <td>14:45:00</td>\n",
       "      <td>3</td>\n",
       "      <td>42.0</td>\n",
       "    </tr>\n",
       "    <tr>\n",
       "      <th>123</th>\n",
       "      <td>2016-02-18 15:16:00</td>\n",
       "      <td>2016-02-18 15:31:00</td>\n",
       "      <td>Business</td>\n",
       "      <td>Islamabad</td>\n",
       "      <td>Unknown Location</td>\n",
       "      <td>6.0</td>\n",
       "      <td>Temporary Site</td>\n",
       "      <td>2016-02-18</td>\n",
       "      <td>15:16:00</td>\n",
       "      <td>2016-02-18</td>\n",
       "      <td>15:31:00</td>\n",
       "      <td>3</td>\n",
       "      <td>15.0</td>\n",
       "    </tr>\n",
       "    <tr>\n",
       "      <th>124</th>\n",
       "      <td>2016-02-18 18:44:00</td>\n",
       "      <td>2016-02-18 18:58:00</td>\n",
       "      <td>Business</td>\n",
       "      <td>Unknown Location</td>\n",
       "      <td>Islamabad</td>\n",
       "      <td>5.2</td>\n",
       "      <td>Customer Visit</td>\n",
       "      <td>2016-02-18</td>\n",
       "      <td>18:44:00</td>\n",
       "      <td>2016-02-18</td>\n",
       "      <td>18:58:00</td>\n",
       "      <td>3</td>\n",
       "      <td>14.0</td>\n",
       "    </tr>\n",
       "    <tr>\n",
       "      <th>125</th>\n",
       "      <td>2016-02-18 19:27:00</td>\n",
       "      <td>2016-02-18 20:08:00</td>\n",
       "      <td>Business</td>\n",
       "      <td>Islamabad</td>\n",
       "      <td>Unknown Location</td>\n",
       "      <td>10.0</td>\n",
       "      <td>Meeting</td>\n",
       "      <td>2016-02-18</td>\n",
       "      <td>19:27:00</td>\n",
       "      <td>2016-02-18</td>\n",
       "      <td>20:08:00</td>\n",
       "      <td>3</td>\n",
       "      <td>41.0</td>\n",
       "    </tr>\n",
       "    <tr>\n",
       "      <th>126</th>\n",
       "      <td>2016-02-19 09:02:00</td>\n",
       "      <td>2016-02-19 09:14:00</td>\n",
       "      <td>Business</td>\n",
       "      <td>Unknown Location</td>\n",
       "      <td>Unknown Location</td>\n",
       "      <td>18.3</td>\n",
       "      <td>Meeting</td>\n",
       "      <td>2016-02-19</td>\n",
       "      <td>09:02:00</td>\n",
       "      <td>2016-02-19</td>\n",
       "      <td>09:14:00</td>\n",
       "      <td>4</td>\n",
       "      <td>12.0</td>\n",
       "    </tr>\n",
       "    <tr>\n",
       "      <th>127</th>\n",
       "      <td>2016-02-19 09:21:00</td>\n",
       "      <td>2016-02-19 09:51:00</td>\n",
       "      <td>Business</td>\n",
       "      <td>Unknown Location</td>\n",
       "      <td>Unknown Location</td>\n",
       "      <td>11.2</td>\n",
       "      <td>Meeting</td>\n",
       "      <td>2016-02-19</td>\n",
       "      <td>09:21:00</td>\n",
       "      <td>2016-02-19</td>\n",
       "      <td>09:51:00</td>\n",
       "      <td>4</td>\n",
       "      <td>30.0</td>\n",
       "    </tr>\n",
       "    <tr>\n",
       "      <th>128</th>\n",
       "      <td>2016-02-19 10:21:00</td>\n",
       "      <td>2016-02-19 10:48:00</td>\n",
       "      <td>Business</td>\n",
       "      <td>Unknown Location</td>\n",
       "      <td>Islamabad</td>\n",
       "      <td>7.6</td>\n",
       "      <td>Meeting</td>\n",
       "      <td>2016-02-19</td>\n",
       "      <td>10:21:00</td>\n",
       "      <td>2016-02-19</td>\n",
       "      <td>10:48:00</td>\n",
       "      <td>4</td>\n",
       "      <td>27.0</td>\n",
       "    </tr>\n",
       "    <tr>\n",
       "      <th>129</th>\n",
       "      <td>2016-02-19 11:20:00</td>\n",
       "      <td>2016-02-19 11:26:00</td>\n",
       "      <td>Personal</td>\n",
       "      <td>Islamabad</td>\n",
       "      <td>Islamabad</td>\n",
       "      <td>1.5</td>\n",
       "      <td>NaN</td>\n",
       "      <td>2016-02-19</td>\n",
       "      <td>11:20:00</td>\n",
       "      <td>2016-02-19</td>\n",
       "      <td>11:26:00</td>\n",
       "      <td>4</td>\n",
       "      <td>6.0</td>\n",
       "    </tr>\n",
       "    <tr>\n",
       "      <th>130</th>\n",
       "      <td>2016-02-19 11:45:00</td>\n",
       "      <td>2016-02-19 11:50:00</td>\n",
       "      <td>Personal</td>\n",
       "      <td>Islamabad</td>\n",
       "      <td>Islamabad</td>\n",
       "      <td>1.0</td>\n",
       "      <td>NaN</td>\n",
       "      <td>2016-02-19</td>\n",
       "      <td>11:45:00</td>\n",
       "      <td>2016-02-19</td>\n",
       "      <td>11:50:00</td>\n",
       "      <td>4</td>\n",
       "      <td>5.0</td>\n",
       "    </tr>\n",
       "    <tr>\n",
       "      <th>131</th>\n",
       "      <td>2016-02-19 12:09:00</td>\n",
       "      <td>2016-02-19 12:27:00</td>\n",
       "      <td>Business</td>\n",
       "      <td>Islamabad</td>\n",
       "      <td>Unknown Location</td>\n",
       "      <td>7.3</td>\n",
       "      <td>Temporary Site</td>\n",
       "      <td>2016-02-19</td>\n",
       "      <td>12:09:00</td>\n",
       "      <td>2016-02-19</td>\n",
       "      <td>12:27:00</td>\n",
       "      <td>4</td>\n",
       "      <td>18.0</td>\n",
       "    </tr>\n",
       "    <tr>\n",
       "      <th>132</th>\n",
       "      <td>2016-02-19 16:26:00</td>\n",
       "      <td>2016-02-19 16:45:00</td>\n",
       "      <td>Business</td>\n",
       "      <td>Unknown Location</td>\n",
       "      <td>Islamabad</td>\n",
       "      <td>3.5</td>\n",
       "      <td>NaN</td>\n",
       "      <td>2016-02-19</td>\n",
       "      <td>16:26:00</td>\n",
       "      <td>2016-02-19</td>\n",
       "      <td>16:45:00</td>\n",
       "      <td>4</td>\n",
       "      <td>19.0</td>\n",
       "    </tr>\n",
       "    <tr>\n",
       "      <th>133</th>\n",
       "      <td>2016-02-19 17:09:00</td>\n",
       "      <td>2016-02-19 17:20:00</td>\n",
       "      <td>Business</td>\n",
       "      <td>Islamabad</td>\n",
       "      <td>Islamabad</td>\n",
       "      <td>4.2</td>\n",
       "      <td>NaN</td>\n",
       "      <td>2016-02-19</td>\n",
       "      <td>17:09:00</td>\n",
       "      <td>2016-02-19</td>\n",
       "      <td>17:20:00</td>\n",
       "      <td>4</td>\n",
       "      <td>11.0</td>\n",
       "    </tr>\n",
       "    <tr>\n",
       "      <th>134</th>\n",
       "      <td>2016-02-19 20:08:00</td>\n",
       "      <td>2016-02-19 20:30:00</td>\n",
       "      <td>Personal</td>\n",
       "      <td>Islamabad</td>\n",
       "      <td>Unknown Location</td>\n",
       "      <td>13.6</td>\n",
       "      <td>NaN</td>\n",
       "      <td>2016-02-19</td>\n",
       "      <td>20:08:00</td>\n",
       "      <td>2016-02-19</td>\n",
       "      <td>20:30:00</td>\n",
       "      <td>4</td>\n",
       "      <td>22.0</td>\n",
       "    </tr>\n",
       "    <tr>\n",
       "      <th>135</th>\n",
       "      <td>2016-02-19 20:34:00</td>\n",
       "      <td>2016-02-19 20:51:00</td>\n",
       "      <td>Personal</td>\n",
       "      <td>Unknown Location</td>\n",
       "      <td>Unknown Location</td>\n",
       "      <td>2.5</td>\n",
       "      <td>NaN</td>\n",
       "      <td>2016-02-19</td>\n",
       "      <td>20:34:00</td>\n",
       "      <td>2016-02-19</td>\n",
       "      <td>20:51:00</td>\n",
       "      <td>4</td>\n",
       "      <td>17.0</td>\n",
       "    </tr>\n",
       "    <tr>\n",
       "      <th>136</th>\n",
       "      <td>2016-02-20 07:59:00</td>\n",
       "      <td>2016-02-20 08:32:00</td>\n",
       "      <td>Personal</td>\n",
       "      <td>Unknown Location</td>\n",
       "      <td>Islamabad</td>\n",
       "      <td>14.4</td>\n",
       "      <td>NaN</td>\n",
       "      <td>2016-02-20</td>\n",
       "      <td>07:59:00</td>\n",
       "      <td>2016-02-20</td>\n",
       "      <td>08:32:00</td>\n",
       "      <td>5</td>\n",
       "      <td>33.0</td>\n",
       "    </tr>\n",
       "    <tr>\n",
       "      <th>137</th>\n",
       "      <td>2016-02-20 10:48:00</td>\n",
       "      <td>2016-02-20 10:56:00</td>\n",
       "      <td>Personal</td>\n",
       "      <td>Islamabad</td>\n",
       "      <td>Islamabad</td>\n",
       "      <td>3.0</td>\n",
       "      <td>NaN</td>\n",
       "      <td>2016-02-20</td>\n",
       "      <td>10:48:00</td>\n",
       "      <td>2016-02-20</td>\n",
       "      <td>10:56:00</td>\n",
       "      <td>5</td>\n",
       "      <td>8.0</td>\n",
       "    </tr>\n",
       "    <tr>\n",
       "      <th>138</th>\n",
       "      <td>2016-02-20 11:45:00</td>\n",
       "      <td>2016-02-20 11:53:00</td>\n",
       "      <td>Personal</td>\n",
       "      <td>Islamabad</td>\n",
       "      <td>Islamabad</td>\n",
       "      <td>1.5</td>\n",
       "      <td>NaN</td>\n",
       "      <td>2016-02-20</td>\n",
       "      <td>11:45:00</td>\n",
       "      <td>2016-02-20</td>\n",
       "      <td>11:53:00</td>\n",
       "      <td>5</td>\n",
       "      <td>8.0</td>\n",
       "    </tr>\n",
       "    <tr>\n",
       "      <th>139</th>\n",
       "      <td>2016-02-20 12:41:00</td>\n",
       "      <td>2016-02-20 13:17:00</td>\n",
       "      <td>Business</td>\n",
       "      <td>Islamabad</td>\n",
       "      <td>R?walpindi</td>\n",
       "      <td>18.4</td>\n",
       "      <td>NaN</td>\n",
       "      <td>2016-02-20</td>\n",
       "      <td>12:41:00</td>\n",
       "      <td>2016-02-20</td>\n",
       "      <td>13:17:00</td>\n",
       "      <td>5</td>\n",
       "      <td>36.0</td>\n",
       "    </tr>\n",
       "    <tr>\n",
       "      <th>140</th>\n",
       "      <td>2016-02-20 14:50:00</td>\n",
       "      <td>2016-02-20 15:54:00</td>\n",
       "      <td>Business</td>\n",
       "      <td>R?walpindi</td>\n",
       "      <td>R?walpindi</td>\n",
       "      <td>23.1</td>\n",
       "      <td>Meeting</td>\n",
       "      <td>2016-02-20</td>\n",
       "      <td>14:50:00</td>\n",
       "      <td>2016-02-20</td>\n",
       "      <td>15:54:00</td>\n",
       "      <td>5</td>\n",
       "      <td>64.0</td>\n",
       "    </tr>\n",
       "    <tr>\n",
       "      <th>141</th>\n",
       "      <td>2016-02-20 16:59:00</td>\n",
       "      <td>2016-02-20 17:54:00</td>\n",
       "      <td>Personal</td>\n",
       "      <td>R?walpindi</td>\n",
       "      <td>Unknown Location</td>\n",
       "      <td>16.5</td>\n",
       "      <td>NaN</td>\n",
       "      <td>2016-02-20</td>\n",
       "      <td>16:59:00</td>\n",
       "      <td>2016-02-20</td>\n",
       "      <td>17:54:00</td>\n",
       "      <td>5</td>\n",
       "      <td>55.0</td>\n",
       "    </tr>\n",
       "    <tr>\n",
       "      <th>142</th>\n",
       "      <td>2016-02-20 18:00:00</td>\n",
       "      <td>2016-02-20 18:03:00</td>\n",
       "      <td>Business</td>\n",
       "      <td>Unknown Location</td>\n",
       "      <td>Unknown Location</td>\n",
       "      <td>3.2</td>\n",
       "      <td>Errand/Supplies</td>\n",
       "      <td>2016-02-20</td>\n",
       "      <td>18:00:00</td>\n",
       "      <td>2016-02-20</td>\n",
       "      <td>18:03:00</td>\n",
       "      <td>5</td>\n",
       "      <td>3.0</td>\n",
       "    </tr>\n",
       "    <tr>\n",
       "      <th>143</th>\n",
       "      <td>2016-02-20 19:28:00</td>\n",
       "      <td>2016-02-20 19:49:00</td>\n",
       "      <td>Business</td>\n",
       "      <td>Unknown Location</td>\n",
       "      <td>Unknown Location</td>\n",
       "      <td>7.7</td>\n",
       "      <td>Errand/Supplies</td>\n",
       "      <td>2016-02-20</td>\n",
       "      <td>19:28:00</td>\n",
       "      <td>2016-02-20</td>\n",
       "      <td>19:49:00</td>\n",
       "      <td>5</td>\n",
       "      <td>21.0</td>\n",
       "    </tr>\n",
       "    <tr>\n",
       "      <th>144</th>\n",
       "      <td>2016-02-21 09:07:00</td>\n",
       "      <td>2016-02-21 09:46:00</td>\n",
       "      <td>Business</td>\n",
       "      <td>Unknown Location</td>\n",
       "      <td>Islamabad</td>\n",
       "      <td>14.5</td>\n",
       "      <td>NaN</td>\n",
       "      <td>2016-02-21</td>\n",
       "      <td>09:07:00</td>\n",
       "      <td>2016-02-21</td>\n",
       "      <td>09:46:00</td>\n",
       "      <td>6</td>\n",
       "      <td>39.0</td>\n",
       "    </tr>\n",
       "    <tr>\n",
       "      <th>145</th>\n",
       "      <td>2016-02-21 11:39:00</td>\n",
       "      <td>2016-02-21 11:43:00</td>\n",
       "      <td>Business</td>\n",
       "      <td>Unknown Location</td>\n",
       "      <td>Islamabad</td>\n",
       "      <td>2.4</td>\n",
       "      <td>Errand/Supplies</td>\n",
       "      <td>2016-02-21</td>\n",
       "      <td>11:39:00</td>\n",
       "      <td>2016-02-21</td>\n",
       "      <td>11:43:00</td>\n",
       "      <td>6</td>\n",
       "      <td>4.0</td>\n",
       "    </tr>\n",
       "    <tr>\n",
       "      <th>146</th>\n",
       "      <td>2016-02-21 11:47:00</td>\n",
       "      <td>2016-02-21 12:01:00</td>\n",
       "      <td>Business</td>\n",
       "      <td>Islamabad</td>\n",
       "      <td>Islamabad</td>\n",
       "      <td>4.6</td>\n",
       "      <td>Errand/Supplies</td>\n",
       "      <td>2016-02-21</td>\n",
       "      <td>11:47:00</td>\n",
       "      <td>2016-02-21</td>\n",
       "      <td>12:01:00</td>\n",
       "      <td>6</td>\n",
       "      <td>14.0</td>\n",
       "    </tr>\n",
       "    <tr>\n",
       "      <th>147</th>\n",
       "      <td>2016-02-21 12:13:00</td>\n",
       "      <td>2016-02-21 12:35:00</td>\n",
       "      <td>Business</td>\n",
       "      <td>Islamabad</td>\n",
       "      <td>Unknown Location</td>\n",
       "      <td>8.8</td>\n",
       "      <td>Meal/Entertain</td>\n",
       "      <td>2016-02-21</td>\n",
       "      <td>12:13:00</td>\n",
       "      <td>2016-02-21</td>\n",
       "      <td>12:35:00</td>\n",
       "      <td>6</td>\n",
       "      <td>22.0</td>\n",
       "    </tr>\n",
       "    <tr>\n",
       "      <th>148</th>\n",
       "      <td>2016-02-21 12:51:00</td>\n",
       "      <td>2016-02-21 13:12:00</td>\n",
       "      <td>Business</td>\n",
       "      <td>Unknown Location</td>\n",
       "      <td>Unknown Location</td>\n",
       "      <td>8.3</td>\n",
       "      <td>Temporary Site</td>\n",
       "      <td>2016-02-21</td>\n",
       "      <td>12:51:00</td>\n",
       "      <td>2016-02-21</td>\n",
       "      <td>13:12:00</td>\n",
       "      <td>6</td>\n",
       "      <td>21.0</td>\n",
       "    </tr>\n",
       "    <tr>\n",
       "      <th>149</th>\n",
       "      <td>2016-02-21 13:33:00</td>\n",
       "      <td>2016-02-21 14:30:00</td>\n",
       "      <td>Business</td>\n",
       "      <td>Unknown Location</td>\n",
       "      <td>Unknown Location</td>\n",
       "      <td>22.7</td>\n",
       "      <td>Temporary Site</td>\n",
       "      <td>2016-02-21</td>\n",
       "      <td>13:33:00</td>\n",
       "      <td>2016-02-21</td>\n",
       "      <td>14:30:00</td>\n",
       "      <td>6</td>\n",
       "      <td>57.0</td>\n",
       "    </tr>\n",
       "    <tr>\n",
       "      <th>150</th>\n",
       "      <td>2016-02-21 14:36:00</td>\n",
       "      <td>2016-02-21 15:03:00</td>\n",
       "      <td>Business</td>\n",
       "      <td>Unknown Location</td>\n",
       "      <td>Islamabad</td>\n",
       "      <td>13.0</td>\n",
       "      <td>Temporary Site</td>\n",
       "      <td>2016-02-21</td>\n",
       "      <td>14:36:00</td>\n",
       "      <td>2016-02-21</td>\n",
       "      <td>15:03:00</td>\n",
       "      <td>6</td>\n",
       "      <td>27.0</td>\n",
       "    </tr>\n",
       "    <tr>\n",
       "      <th>151</th>\n",
       "      <td>2016-02-21 15:14:00</td>\n",
       "      <td>2016-02-21 15:31:00</td>\n",
       "      <td>Business</td>\n",
       "      <td>Islamabad</td>\n",
       "      <td>Noorpur Shahan</td>\n",
       "      <td>8.1</td>\n",
       "      <td>Temporary Site</td>\n",
       "      <td>2016-02-21</td>\n",
       "      <td>15:14:00</td>\n",
       "      <td>2016-02-21</td>\n",
       "      <td>15:31:00</td>\n",
       "      <td>6</td>\n",
       "      <td>17.0</td>\n",
       "    </tr>\n",
       "    <tr>\n",
       "      <th>152</th>\n",
       "      <td>2016-02-21 15:36:00</td>\n",
       "      <td>2016-02-21 15:41:00</td>\n",
       "      <td>Business</td>\n",
       "      <td>Noorpur Shahan</td>\n",
       "      <td>Unknown Location</td>\n",
       "      <td>2.2</td>\n",
       "      <td>Meal/Entertain</td>\n",
       "      <td>2016-02-21</td>\n",
       "      <td>15:36:00</td>\n",
       "      <td>2016-02-21</td>\n",
       "      <td>15:41:00</td>\n",
       "      <td>6</td>\n",
       "      <td>5.0</td>\n",
       "    </tr>\n",
       "    <tr>\n",
       "      <th>153</th>\n",
       "      <td>2016-02-21 16:04:00</td>\n",
       "      <td>2016-02-21 16:32:00</td>\n",
       "      <td>Business</td>\n",
       "      <td>Unknown Location</td>\n",
       "      <td>Unknown Location</td>\n",
       "      <td>9.7</td>\n",
       "      <td>NaN</td>\n",
       "      <td>2016-02-21</td>\n",
       "      <td>16:04:00</td>\n",
       "      <td>2016-02-21</td>\n",
       "      <td>16:32:00</td>\n",
       "      <td>6</td>\n",
       "      <td>28.0</td>\n",
       "    </tr>\n",
       "    <tr>\n",
       "      <th>154</th>\n",
       "      <td>2016-02-21 23:15:00</td>\n",
       "      <td>2016-02-21 23:52:00</td>\n",
       "      <td>Business</td>\n",
       "      <td>Unknown Location</td>\n",
       "      <td>R?walpindi</td>\n",
       "      <td>20.0</td>\n",
       "      <td>Meeting</td>\n",
       "      <td>2016-02-21</td>\n",
       "      <td>23:15:00</td>\n",
       "      <td>2016-02-21</td>\n",
       "      <td>23:52:00</td>\n",
       "      <td>6</td>\n",
       "      <td>37.0</td>\n",
       "    </tr>\n",
       "  </tbody>\n",
       "</table>\n",
       "</div>"
      ],
      "text/plain": [
       "            START_DATE*           END_DATE* CATEGORY*            START*  \\\n",
       "108 2016-02-16 03:21:00 2016-02-16 04:13:00  Business        Katunayaka   \n",
       "109 2016-02-16 08:29:00 2016-02-16 09:34:00  Business  Unknown Location   \n",
       "110 2016-02-16 10:31:00 2016-02-16 10:41:00  Business           Colombo   \n",
       "111 2016-02-16 11:32:00 2016-02-16 12:02:00  Business           Colombo   \n",
       "112 2016-02-16 12:39:00 2016-02-16 12:42:00  Business           Colombo   \n",
       "113 2016-02-16 13:43:00 2016-02-16 13:55:00  Business           Colombo   \n",
       "114 2016-02-16 16:34:00 2016-02-16 17:10:00  Business           Colombo   \n",
       "115 2016-02-16 17:17:00 2016-02-16 17:26:00  Business           Colombo   \n",
       "116 2016-02-16 17:40:00 2016-02-16 17:44:00  Business          Nugegoda   \n",
       "117 2016-02-17 13:18:00 2016-02-17 14:04:00  Business  Unknown Location   \n",
       "118 2016-02-17 15:17:00 2016-02-17 15:22:00  Business           Colombo   \n",
       "119 2016-02-17 15:33:00 2016-02-17 16:17:00  Business           Colombo   \n",
       "120 2016-02-17 16:38:00 2016-02-17 16:43:00  Business        Katunayaka   \n",
       "121 2016-02-18 08:19:00 2016-02-18 08:27:00  Business  Unknown Location   \n",
       "122 2016-02-18 14:03:00 2016-02-18 14:45:00  Business  Unknown Location   \n",
       "123 2016-02-18 15:16:00 2016-02-18 15:31:00  Business         Islamabad   \n",
       "124 2016-02-18 18:44:00 2016-02-18 18:58:00  Business  Unknown Location   \n",
       "125 2016-02-18 19:27:00 2016-02-18 20:08:00  Business         Islamabad   \n",
       "126 2016-02-19 09:02:00 2016-02-19 09:14:00  Business  Unknown Location   \n",
       "127 2016-02-19 09:21:00 2016-02-19 09:51:00  Business  Unknown Location   \n",
       "128 2016-02-19 10:21:00 2016-02-19 10:48:00  Business  Unknown Location   \n",
       "129 2016-02-19 11:20:00 2016-02-19 11:26:00  Personal         Islamabad   \n",
       "130 2016-02-19 11:45:00 2016-02-19 11:50:00  Personal         Islamabad   \n",
       "131 2016-02-19 12:09:00 2016-02-19 12:27:00  Business         Islamabad   \n",
       "132 2016-02-19 16:26:00 2016-02-19 16:45:00  Business  Unknown Location   \n",
       "133 2016-02-19 17:09:00 2016-02-19 17:20:00  Business         Islamabad   \n",
       "134 2016-02-19 20:08:00 2016-02-19 20:30:00  Personal         Islamabad   \n",
       "135 2016-02-19 20:34:00 2016-02-19 20:51:00  Personal  Unknown Location   \n",
       "136 2016-02-20 07:59:00 2016-02-20 08:32:00  Personal  Unknown Location   \n",
       "137 2016-02-20 10:48:00 2016-02-20 10:56:00  Personal         Islamabad   \n",
       "138 2016-02-20 11:45:00 2016-02-20 11:53:00  Personal         Islamabad   \n",
       "139 2016-02-20 12:41:00 2016-02-20 13:17:00  Business         Islamabad   \n",
       "140 2016-02-20 14:50:00 2016-02-20 15:54:00  Business        R?walpindi   \n",
       "141 2016-02-20 16:59:00 2016-02-20 17:54:00  Personal        R?walpindi   \n",
       "142 2016-02-20 18:00:00 2016-02-20 18:03:00  Business  Unknown Location   \n",
       "143 2016-02-20 19:28:00 2016-02-20 19:49:00  Business  Unknown Location   \n",
       "144 2016-02-21 09:07:00 2016-02-21 09:46:00  Business  Unknown Location   \n",
       "145 2016-02-21 11:39:00 2016-02-21 11:43:00  Business  Unknown Location   \n",
       "146 2016-02-21 11:47:00 2016-02-21 12:01:00  Business         Islamabad   \n",
       "147 2016-02-21 12:13:00 2016-02-21 12:35:00  Business         Islamabad   \n",
       "148 2016-02-21 12:51:00 2016-02-21 13:12:00  Business  Unknown Location   \n",
       "149 2016-02-21 13:33:00 2016-02-21 14:30:00  Business  Unknown Location   \n",
       "150 2016-02-21 14:36:00 2016-02-21 15:03:00  Business  Unknown Location   \n",
       "151 2016-02-21 15:14:00 2016-02-21 15:31:00  Business         Islamabad   \n",
       "152 2016-02-21 15:36:00 2016-02-21 15:41:00  Business    Noorpur Shahan   \n",
       "153 2016-02-21 16:04:00 2016-02-21 16:32:00  Business  Unknown Location   \n",
       "154 2016-02-21 23:15:00 2016-02-21 23:52:00  Business  Unknown Location   \n",
       "\n",
       "                STOP*  MILES*         PURPOSE*  Start Date Start Time  \\\n",
       "108  Unknown Location    43.7   Customer Visit  2016-02-16   03:21:00   \n",
       "109           Colombo    14.1              NaN  2016-02-16   08:29:00   \n",
       "110           Colombo     2.6              NaN  2016-02-16   10:31:00   \n",
       "111           Colombo     4.5              NaN  2016-02-16   11:32:00   \n",
       "112           Colombo     1.7              NaN  2016-02-16   12:39:00   \n",
       "113           Colombo     1.8   Temporary Site  2016-02-16   13:43:00   \n",
       "114           Colombo     6.0              NaN  2016-02-16   16:34:00   \n",
       "115          Nugegoda     1.1   Meal/Entertain  2016-02-16   17:17:00   \n",
       "116  Unknown Location     3.6  Errand/Supplies  2016-02-16   17:40:00   \n",
       "117           Colombo    14.7   Temporary Site  2016-02-17   13:18:00   \n",
       "118           Colombo     1.7   Meal/Entertain  2016-02-17   15:17:00   \n",
       "119        Katunayaka    21.4   Temporary Site  2016-02-17   15:33:00   \n",
       "120        Katunayaka     0.5  Errand/Supplies  2016-02-17   16:38:00   \n",
       "121  Unknown Location    23.5   Temporary Site  2016-02-18   08:19:00   \n",
       "122         Islamabad    12.7   Temporary Site  2016-02-18   14:03:00   \n",
       "123  Unknown Location     6.0   Temporary Site  2016-02-18   15:16:00   \n",
       "124         Islamabad     5.2   Customer Visit  2016-02-18   18:44:00   \n",
       "125  Unknown Location    10.0          Meeting  2016-02-18   19:27:00   \n",
       "126  Unknown Location    18.3          Meeting  2016-02-19   09:02:00   \n",
       "127  Unknown Location    11.2          Meeting  2016-02-19   09:21:00   \n",
       "128         Islamabad     7.6          Meeting  2016-02-19   10:21:00   \n",
       "129         Islamabad     1.5              NaN  2016-02-19   11:20:00   \n",
       "130         Islamabad     1.0              NaN  2016-02-19   11:45:00   \n",
       "131  Unknown Location     7.3   Temporary Site  2016-02-19   12:09:00   \n",
       "132         Islamabad     3.5              NaN  2016-02-19   16:26:00   \n",
       "133         Islamabad     4.2              NaN  2016-02-19   17:09:00   \n",
       "134  Unknown Location    13.6              NaN  2016-02-19   20:08:00   \n",
       "135  Unknown Location     2.5              NaN  2016-02-19   20:34:00   \n",
       "136         Islamabad    14.4              NaN  2016-02-20   07:59:00   \n",
       "137         Islamabad     3.0              NaN  2016-02-20   10:48:00   \n",
       "138         Islamabad     1.5              NaN  2016-02-20   11:45:00   \n",
       "139        R?walpindi    18.4              NaN  2016-02-20   12:41:00   \n",
       "140        R?walpindi    23.1          Meeting  2016-02-20   14:50:00   \n",
       "141  Unknown Location    16.5              NaN  2016-02-20   16:59:00   \n",
       "142  Unknown Location     3.2  Errand/Supplies  2016-02-20   18:00:00   \n",
       "143  Unknown Location     7.7  Errand/Supplies  2016-02-20   19:28:00   \n",
       "144         Islamabad    14.5              NaN  2016-02-21   09:07:00   \n",
       "145         Islamabad     2.4  Errand/Supplies  2016-02-21   11:39:00   \n",
       "146         Islamabad     4.6  Errand/Supplies  2016-02-21   11:47:00   \n",
       "147  Unknown Location     8.8   Meal/Entertain  2016-02-21   12:13:00   \n",
       "148  Unknown Location     8.3   Temporary Site  2016-02-21   12:51:00   \n",
       "149  Unknown Location    22.7   Temporary Site  2016-02-21   13:33:00   \n",
       "150         Islamabad    13.0   Temporary Site  2016-02-21   14:36:00   \n",
       "151    Noorpur Shahan     8.1   Temporary Site  2016-02-21   15:14:00   \n",
       "152  Unknown Location     2.2   Meal/Entertain  2016-02-21   15:36:00   \n",
       "153  Unknown Location     9.7              NaN  2016-02-21   16:04:00   \n",
       "154        R?walpindi    20.0          Meeting  2016-02-21   23:15:00   \n",
       "\n",
       "       End Date  End Time  Weekday  Duration  \n",
       "108  2016-02-16  04:13:00        1      52.0  \n",
       "109  2016-02-16  09:34:00        1      65.0  \n",
       "110  2016-02-16  10:41:00        1      10.0  \n",
       "111  2016-02-16  12:02:00        1      30.0  \n",
       "112  2016-02-16  12:42:00        1       3.0  \n",
       "113  2016-02-16  13:55:00        1      12.0  \n",
       "114  2016-02-16  17:10:00        1      36.0  \n",
       "115  2016-02-16  17:26:00        1       9.0  \n",
       "116  2016-02-16  17:44:00        1       4.0  \n",
       "117  2016-02-17  14:04:00        2      46.0  \n",
       "118  2016-02-17  15:22:00        2       5.0  \n",
       "119  2016-02-17  16:17:00        2      44.0  \n",
       "120  2016-02-17  16:43:00        2       5.0  \n",
       "121  2016-02-18  08:27:00        3       8.0  \n",
       "122  2016-02-18  14:45:00        3      42.0  \n",
       "123  2016-02-18  15:31:00        3      15.0  \n",
       "124  2016-02-18  18:58:00        3      14.0  \n",
       "125  2016-02-18  20:08:00        3      41.0  \n",
       "126  2016-02-19  09:14:00        4      12.0  \n",
       "127  2016-02-19  09:51:00        4      30.0  \n",
       "128  2016-02-19  10:48:00        4      27.0  \n",
       "129  2016-02-19  11:26:00        4       6.0  \n",
       "130  2016-02-19  11:50:00        4       5.0  \n",
       "131  2016-02-19  12:27:00        4      18.0  \n",
       "132  2016-02-19  16:45:00        4      19.0  \n",
       "133  2016-02-19  17:20:00        4      11.0  \n",
       "134  2016-02-19  20:30:00        4      22.0  \n",
       "135  2016-02-19  20:51:00        4      17.0  \n",
       "136  2016-02-20  08:32:00        5      33.0  \n",
       "137  2016-02-20  10:56:00        5       8.0  \n",
       "138  2016-02-20  11:53:00        5       8.0  \n",
       "139  2016-02-20  13:17:00        5      36.0  \n",
       "140  2016-02-20  15:54:00        5      64.0  \n",
       "141  2016-02-20  17:54:00        5      55.0  \n",
       "142  2016-02-20  18:03:00        5       3.0  \n",
       "143  2016-02-20  19:49:00        5      21.0  \n",
       "144  2016-02-21  09:46:00        6      39.0  \n",
       "145  2016-02-21  11:43:00        6       4.0  \n",
       "146  2016-02-21  12:01:00        6      14.0  \n",
       "147  2016-02-21  12:35:00        6      22.0  \n",
       "148  2016-02-21  13:12:00        6      21.0  \n",
       "149  2016-02-21  14:30:00        6      57.0  \n",
       "150  2016-02-21  15:03:00        6      27.0  \n",
       "151  2016-02-21  15:31:00        6      17.0  \n",
       "152  2016-02-21  15:41:00        6       5.0  \n",
       "153  2016-02-21  16:32:00        6      28.0  \n",
       "154  2016-02-21  23:52:00        6      37.0  "
      ]
     },
     "execution_count": 22,
     "metadata": {},
     "output_type": "execute_result"
    }
   ],
   "source": [
    "d1"
   ]
  },
  {
   "cell_type": "code",
   "execution_count": 23,
   "metadata": {},
   "outputs": [
    {
     "data": {
      "text/html": [
       "<div>\n",
       "<style scoped>\n",
       "    .dataframe tbody tr th:only-of-type {\n",
       "        vertical-align: middle;\n",
       "    }\n",
       "\n",
       "    .dataframe tbody tr th {\n",
       "        vertical-align: top;\n",
       "    }\n",
       "\n",
       "    .dataframe thead th {\n",
       "        text-align: right;\n",
       "    }\n",
       "</style>\n",
       "<table border=\"1\" class=\"dataframe\">\n",
       "  <thead>\n",
       "    <tr style=\"text-align: right;\">\n",
       "      <th></th>\n",
       "      <th>START_DATE*</th>\n",
       "      <th>END_DATE*</th>\n",
       "      <th>CATEGORY*</th>\n",
       "      <th>START*</th>\n",
       "      <th>STOP*</th>\n",
       "      <th>MILES*</th>\n",
       "      <th>PURPOSE*</th>\n",
       "      <th>Start Date</th>\n",
       "      <th>Start Time</th>\n",
       "      <th>End Date</th>\n",
       "      <th>End Time</th>\n",
       "      <th>Weekday</th>\n",
       "      <th>Duration</th>\n",
       "    </tr>\n",
       "  </thead>\n",
       "  <tbody>\n",
       "    <tr>\n",
       "      <th>656</th>\n",
       "      <td>2016-08-15 09:05:00</td>\n",
       "      <td>2016-08-15 09:52:00</td>\n",
       "      <td>Business</td>\n",
       "      <td>R?walpindi</td>\n",
       "      <td>Unknown Location</td>\n",
       "      <td>15.6</td>\n",
       "      <td>NaN</td>\n",
       "      <td>2016-08-15</td>\n",
       "      <td>09:05:00</td>\n",
       "      <td>2016-08-15</td>\n",
       "      <td>09:52:00</td>\n",
       "      <td>0</td>\n",
       "      <td>47.0</td>\n",
       "    </tr>\n",
       "    <tr>\n",
       "      <th>657</th>\n",
       "      <td>2016-08-15 15:20:00</td>\n",
       "      <td>2016-08-15 15:47:00</td>\n",
       "      <td>Business</td>\n",
       "      <td>Unknown Location</td>\n",
       "      <td>Unknown Location</td>\n",
       "      <td>14.1</td>\n",
       "      <td>NaN</td>\n",
       "      <td>2016-08-15</td>\n",
       "      <td>15:20:00</td>\n",
       "      <td>2016-08-15</td>\n",
       "      <td>15:47:00</td>\n",
       "      <td>0</td>\n",
       "      <td>27.0</td>\n",
       "    </tr>\n",
       "    <tr>\n",
       "      <th>658</th>\n",
       "      <td>2016-08-15 16:52:00</td>\n",
       "      <td>2016-08-15 17:30:00</td>\n",
       "      <td>Business</td>\n",
       "      <td>Unknown Location</td>\n",
       "      <td>Unknown Location</td>\n",
       "      <td>15.7</td>\n",
       "      <td>NaN</td>\n",
       "      <td>2016-08-15</td>\n",
       "      <td>16:52:00</td>\n",
       "      <td>2016-08-15</td>\n",
       "      <td>17:30:00</td>\n",
       "      <td>0</td>\n",
       "      <td>38.0</td>\n",
       "    </tr>\n",
       "    <tr>\n",
       "      <th>659</th>\n",
       "      <td>2016-08-15 19:08:00</td>\n",
       "      <td>2016-08-15 20:30:00</td>\n",
       "      <td>Business</td>\n",
       "      <td>Unknown Location</td>\n",
       "      <td>Unknown Location</td>\n",
       "      <td>25.9</td>\n",
       "      <td>Temporary Site</td>\n",
       "      <td>2016-08-15</td>\n",
       "      <td>19:08:00</td>\n",
       "      <td>2016-08-15</td>\n",
       "      <td>20:30:00</td>\n",
       "      <td>0</td>\n",
       "      <td>82.0</td>\n",
       "    </tr>\n",
       "    <tr>\n",
       "      <th>660</th>\n",
       "      <td>2016-08-16 07:58:00</td>\n",
       "      <td>2016-08-16 08:11:00</td>\n",
       "      <td>Business</td>\n",
       "      <td>Unknown Location</td>\n",
       "      <td>Unknown Location</td>\n",
       "      <td>7.9</td>\n",
       "      <td>NaN</td>\n",
       "      <td>2016-08-16</td>\n",
       "      <td>07:58:00</td>\n",
       "      <td>2016-08-16</td>\n",
       "      <td>08:11:00</td>\n",
       "      <td>1</td>\n",
       "      <td>13.0</td>\n",
       "    </tr>\n",
       "    <tr>\n",
       "      <th>...</th>\n",
       "      <td>...</td>\n",
       "      <td>...</td>\n",
       "      <td>...</td>\n",
       "      <td>...</td>\n",
       "      <td>...</td>\n",
       "      <td>...</td>\n",
       "      <td>...</td>\n",
       "      <td>...</td>\n",
       "      <td>...</td>\n",
       "      <td>...</td>\n",
       "      <td>...</td>\n",
       "      <td>...</td>\n",
       "      <td>...</td>\n",
       "    </tr>\n",
       "    <tr>\n",
       "      <th>809</th>\n",
       "      <td>2016-10-13 16:08:00</td>\n",
       "      <td>2016-10-13 16:53:00</td>\n",
       "      <td>Business</td>\n",
       "      <td>Islamabad</td>\n",
       "      <td>Unknown Location</td>\n",
       "      <td>10.9</td>\n",
       "      <td>NaN</td>\n",
       "      <td>2016-10-13</td>\n",
       "      <td>16:08:00</td>\n",
       "      <td>2016-10-13</td>\n",
       "      <td>16:53:00</td>\n",
       "      <td>3</td>\n",
       "      <td>45.0</td>\n",
       "    </tr>\n",
       "    <tr>\n",
       "      <th>810</th>\n",
       "      <td>2016-10-14 08:50:00</td>\n",
       "      <td>2016-10-14 09:44:00</td>\n",
       "      <td>Business</td>\n",
       "      <td>Unknown Location</td>\n",
       "      <td>R?walpindi</td>\n",
       "      <td>12.7</td>\n",
       "      <td>NaN</td>\n",
       "      <td>2016-10-14</td>\n",
       "      <td>08:50:00</td>\n",
       "      <td>2016-10-14</td>\n",
       "      <td>09:44:00</td>\n",
       "      <td>4</td>\n",
       "      <td>54.0</td>\n",
       "    </tr>\n",
       "    <tr>\n",
       "      <th>811</th>\n",
       "      <td>2016-10-14 10:16:00</td>\n",
       "      <td>2016-10-14 10:52:00</td>\n",
       "      <td>Business</td>\n",
       "      <td>R?walpindi</td>\n",
       "      <td>Unknown Location</td>\n",
       "      <td>12.4</td>\n",
       "      <td>NaN</td>\n",
       "      <td>2016-10-14</td>\n",
       "      <td>10:16:00</td>\n",
       "      <td>2016-10-14</td>\n",
       "      <td>10:52:00</td>\n",
       "      <td>4</td>\n",
       "      <td>36.0</td>\n",
       "    </tr>\n",
       "    <tr>\n",
       "      <th>812</th>\n",
       "      <td>2016-10-14 15:56:00</td>\n",
       "      <td>2016-10-14 16:20:00</td>\n",
       "      <td>Business</td>\n",
       "      <td>Unknown Location</td>\n",
       "      <td>Unknown Location</td>\n",
       "      <td>3.8</td>\n",
       "      <td>NaN</td>\n",
       "      <td>2016-10-14</td>\n",
       "      <td>15:56:00</td>\n",
       "      <td>2016-10-14</td>\n",
       "      <td>16:20:00</td>\n",
       "      <td>4</td>\n",
       "      <td>24.0</td>\n",
       "    </tr>\n",
       "    <tr>\n",
       "      <th>813</th>\n",
       "      <td>2016-10-14 23:54:00</td>\n",
       "      <td>2016-10-15 02:06:00</td>\n",
       "      <td>Business</td>\n",
       "      <td>Unknown Location</td>\n",
       "      <td>R?walpindi</td>\n",
       "      <td>17.0</td>\n",
       "      <td>Meeting</td>\n",
       "      <td>2016-10-14</td>\n",
       "      <td>23:54:00</td>\n",
       "      <td>2016-10-15</td>\n",
       "      <td>02:06:00</td>\n",
       "      <td>4</td>\n",
       "      <td>132.0</td>\n",
       "    </tr>\n",
       "  </tbody>\n",
       "</table>\n",
       "<p>158 rows × 13 columns</p>\n",
       "</div>"
      ],
      "text/plain": [
       "            START_DATE*           END_DATE* CATEGORY*            START*  \\\n",
       "656 2016-08-15 09:05:00 2016-08-15 09:52:00  Business        R?walpindi   \n",
       "657 2016-08-15 15:20:00 2016-08-15 15:47:00  Business  Unknown Location   \n",
       "658 2016-08-15 16:52:00 2016-08-15 17:30:00  Business  Unknown Location   \n",
       "659 2016-08-15 19:08:00 2016-08-15 20:30:00  Business  Unknown Location   \n",
       "660 2016-08-16 07:58:00 2016-08-16 08:11:00  Business  Unknown Location   \n",
       "..                  ...                 ...       ...               ...   \n",
       "809 2016-10-13 16:08:00 2016-10-13 16:53:00  Business         Islamabad   \n",
       "810 2016-10-14 08:50:00 2016-10-14 09:44:00  Business  Unknown Location   \n",
       "811 2016-10-14 10:16:00 2016-10-14 10:52:00  Business        R?walpindi   \n",
       "812 2016-10-14 15:56:00 2016-10-14 16:20:00  Business  Unknown Location   \n",
       "813 2016-10-14 23:54:00 2016-10-15 02:06:00  Business  Unknown Location   \n",
       "\n",
       "                STOP*  MILES*        PURPOSE*  Start Date Start Time  \\\n",
       "656  Unknown Location    15.6             NaN  2016-08-15   09:05:00   \n",
       "657  Unknown Location    14.1             NaN  2016-08-15   15:20:00   \n",
       "658  Unknown Location    15.7             NaN  2016-08-15   16:52:00   \n",
       "659  Unknown Location    25.9  Temporary Site  2016-08-15   19:08:00   \n",
       "660  Unknown Location     7.9             NaN  2016-08-16   07:58:00   \n",
       "..                ...     ...             ...         ...        ...   \n",
       "809  Unknown Location    10.9             NaN  2016-10-13   16:08:00   \n",
       "810        R?walpindi    12.7             NaN  2016-10-14   08:50:00   \n",
       "811  Unknown Location    12.4             NaN  2016-10-14   10:16:00   \n",
       "812  Unknown Location     3.8             NaN  2016-10-14   15:56:00   \n",
       "813        R?walpindi    17.0         Meeting  2016-10-14   23:54:00   \n",
       "\n",
       "       End Date  End Time  Weekday  Duration  \n",
       "656  2016-08-15  09:52:00        0      47.0  \n",
       "657  2016-08-15  15:47:00        0      27.0  \n",
       "658  2016-08-15  17:30:00        0      38.0  \n",
       "659  2016-08-15  20:30:00        0      82.0  \n",
       "660  2016-08-16  08:11:00        1      13.0  \n",
       "..          ...       ...      ...       ...  \n",
       "809  2016-10-13  16:53:00        3      45.0  \n",
       "810  2016-10-14  09:44:00        4      54.0  \n",
       "811  2016-10-14  10:52:00        4      36.0  \n",
       "812  2016-10-14  16:20:00        4      24.0  \n",
       "813  2016-10-15  02:06:00        4     132.0  \n",
       "\n",
       "[158 rows x 13 columns]"
      ]
     },
     "execution_count": 23,
     "metadata": {},
     "output_type": "execute_result"
    }
   ],
   "source": [
    "d2"
   ]
  },
  {
   "cell_type": "code",
   "execution_count": 24,
   "metadata": {},
   "outputs": [
    {
     "data": {
      "text/html": [
       "<div>\n",
       "<style scoped>\n",
       "    .dataframe tbody tr th:only-of-type {\n",
       "        vertical-align: middle;\n",
       "    }\n",
       "\n",
       "    .dataframe tbody tr th {\n",
       "        vertical-align: top;\n",
       "    }\n",
       "\n",
       "    .dataframe thead th {\n",
       "        text-align: right;\n",
       "    }\n",
       "</style>\n",
       "<table border=\"1\" class=\"dataframe\">\n",
       "  <thead>\n",
       "    <tr style=\"text-align: right;\">\n",
       "      <th></th>\n",
       "      <th>START_DATE*</th>\n",
       "      <th>END_DATE*</th>\n",
       "      <th>CATEGORY*</th>\n",
       "      <th>START*</th>\n",
       "      <th>STOP*</th>\n",
       "      <th>MILES*</th>\n",
       "      <th>PURPOSE*</th>\n",
       "      <th>Start Date</th>\n",
       "      <th>Start Time</th>\n",
       "      <th>End Date</th>\n",
       "      <th>End Time</th>\n",
       "      <th>Weekday</th>\n",
       "      <th>Duration</th>\n",
       "    </tr>\n",
       "  </thead>\n",
       "  <tbody>\n",
       "    <tr>\n",
       "      <th>1055</th>\n",
       "      <td>2016-12-17 15:38:00</td>\n",
       "      <td>2016-12-17 16:12:00</td>\n",
       "      <td>Business</td>\n",
       "      <td>Unknown Location</td>\n",
       "      <td>Unknown Location</td>\n",
       "      <td>4.8</td>\n",
       "      <td>Airport/Travel</td>\n",
       "      <td>2016-12-17</td>\n",
       "      <td>15:38:00</td>\n",
       "      <td>2016-12-17</td>\n",
       "      <td>16:12:00</td>\n",
       "      <td>5</td>\n",
       "      <td>34.0</td>\n",
       "    </tr>\n",
       "    <tr>\n",
       "      <th>1056</th>\n",
       "      <td>2016-12-17 17:19:00</td>\n",
       "      <td>2016-12-17 17:59:00</td>\n",
       "      <td>Business</td>\n",
       "      <td>Unknown Location</td>\n",
       "      <td>Unknown Location</td>\n",
       "      <td>5.3</td>\n",
       "      <td>Temporary Site</td>\n",
       "      <td>2016-12-17</td>\n",
       "      <td>17:19:00</td>\n",
       "      <td>2016-12-17</td>\n",
       "      <td>17:59:00</td>\n",
       "      <td>5</td>\n",
       "      <td>40.0</td>\n",
       "    </tr>\n",
       "    <tr>\n",
       "      <th>1057</th>\n",
       "      <td>2016-12-18 13:03:00</td>\n",
       "      <td>2016-12-18 13:41:00</td>\n",
       "      <td>Business</td>\n",
       "      <td>Unknown Location</td>\n",
       "      <td>Unknown Location</td>\n",
       "      <td>4.9</td>\n",
       "      <td>Errand/Supplies</td>\n",
       "      <td>2016-12-18</td>\n",
       "      <td>13:03:00</td>\n",
       "      <td>2016-12-18</td>\n",
       "      <td>13:41:00</td>\n",
       "      <td>6</td>\n",
       "      <td>38.0</td>\n",
       "    </tr>\n",
       "    <tr>\n",
       "      <th>1058</th>\n",
       "      <td>2016-12-18 16:38:00</td>\n",
       "      <td>2016-12-18 17:25:00</td>\n",
       "      <td>Business</td>\n",
       "      <td>Unknown Location</td>\n",
       "      <td>Unknown Location</td>\n",
       "      <td>10.2</td>\n",
       "      <td>Errand/Supplies</td>\n",
       "      <td>2016-12-18</td>\n",
       "      <td>16:38:00</td>\n",
       "      <td>2016-12-18</td>\n",
       "      <td>17:25:00</td>\n",
       "      <td>6</td>\n",
       "      <td>47.0</td>\n",
       "    </tr>\n",
       "    <tr>\n",
       "      <th>1059</th>\n",
       "      <td>2016-12-18 20:35:00</td>\n",
       "      <td>2016-12-18 21:04:00</td>\n",
       "      <td>Business</td>\n",
       "      <td>Unknown Location</td>\n",
       "      <td>Unknown Location</td>\n",
       "      <td>9.2</td>\n",
       "      <td>NaN</td>\n",
       "      <td>2016-12-18</td>\n",
       "      <td>20:35:00</td>\n",
       "      <td>2016-12-18</td>\n",
       "      <td>21:04:00</td>\n",
       "      <td>6</td>\n",
       "      <td>29.0</td>\n",
       "    </tr>\n",
       "    <tr>\n",
       "      <th>...</th>\n",
       "      <td>...</td>\n",
       "      <td>...</td>\n",
       "      <td>...</td>\n",
       "      <td>...</td>\n",
       "      <td>...</td>\n",
       "      <td>...</td>\n",
       "      <td>...</td>\n",
       "      <td>...</td>\n",
       "      <td>...</td>\n",
       "      <td>...</td>\n",
       "      <td>...</td>\n",
       "      <td>...</td>\n",
       "      <td>...</td>\n",
       "    </tr>\n",
       "    <tr>\n",
       "      <th>1150</th>\n",
       "      <td>2016-12-31 01:07:00</td>\n",
       "      <td>2016-12-31 01:14:00</td>\n",
       "      <td>Business</td>\n",
       "      <td>Kar?chi</td>\n",
       "      <td>Kar?chi</td>\n",
       "      <td>0.7</td>\n",
       "      <td>Meeting</td>\n",
       "      <td>2016-12-31</td>\n",
       "      <td>01:07:00</td>\n",
       "      <td>2016-12-31</td>\n",
       "      <td>01:14:00</td>\n",
       "      <td>5</td>\n",
       "      <td>7.0</td>\n",
       "    </tr>\n",
       "    <tr>\n",
       "      <th>1151</th>\n",
       "      <td>2016-12-31 13:24:00</td>\n",
       "      <td>2016-12-31 13:42:00</td>\n",
       "      <td>Business</td>\n",
       "      <td>Kar?chi</td>\n",
       "      <td>Unknown Location</td>\n",
       "      <td>3.9</td>\n",
       "      <td>Temporary Site</td>\n",
       "      <td>2016-12-31</td>\n",
       "      <td>13:24:00</td>\n",
       "      <td>2016-12-31</td>\n",
       "      <td>13:42:00</td>\n",
       "      <td>5</td>\n",
       "      <td>18.0</td>\n",
       "    </tr>\n",
       "    <tr>\n",
       "      <th>1152</th>\n",
       "      <td>2016-12-31 15:03:00</td>\n",
       "      <td>2016-12-31 15:38:00</td>\n",
       "      <td>Business</td>\n",
       "      <td>Unknown Location</td>\n",
       "      <td>Unknown Location</td>\n",
       "      <td>16.2</td>\n",
       "      <td>Meeting</td>\n",
       "      <td>2016-12-31</td>\n",
       "      <td>15:03:00</td>\n",
       "      <td>2016-12-31</td>\n",
       "      <td>15:38:00</td>\n",
       "      <td>5</td>\n",
       "      <td>35.0</td>\n",
       "    </tr>\n",
       "    <tr>\n",
       "      <th>1153</th>\n",
       "      <td>2016-12-31 21:32:00</td>\n",
       "      <td>2016-12-31 21:50:00</td>\n",
       "      <td>Business</td>\n",
       "      <td>Katunayake</td>\n",
       "      <td>Gampaha</td>\n",
       "      <td>6.4</td>\n",
       "      <td>Temporary Site</td>\n",
       "      <td>2016-12-31</td>\n",
       "      <td>21:32:00</td>\n",
       "      <td>2016-12-31</td>\n",
       "      <td>21:50:00</td>\n",
       "      <td>5</td>\n",
       "      <td>18.0</td>\n",
       "    </tr>\n",
       "    <tr>\n",
       "      <th>1154</th>\n",
       "      <td>2016-12-31 22:08:00</td>\n",
       "      <td>2016-12-31 23:51:00</td>\n",
       "      <td>Business</td>\n",
       "      <td>Gampaha</td>\n",
       "      <td>Ilukwatta</td>\n",
       "      <td>48.2</td>\n",
       "      <td>Temporary Site</td>\n",
       "      <td>2016-12-31</td>\n",
       "      <td>22:08:00</td>\n",
       "      <td>2016-12-31</td>\n",
       "      <td>23:51:00</td>\n",
       "      <td>5</td>\n",
       "      <td>103.0</td>\n",
       "    </tr>\n",
       "  </tbody>\n",
       "</table>\n",
       "<p>100 rows × 13 columns</p>\n",
       "</div>"
      ],
      "text/plain": [
       "             START_DATE*           END_DATE* CATEGORY*            START*  \\\n",
       "1055 2016-12-17 15:38:00 2016-12-17 16:12:00  Business  Unknown Location   \n",
       "1056 2016-12-17 17:19:00 2016-12-17 17:59:00  Business  Unknown Location   \n",
       "1057 2016-12-18 13:03:00 2016-12-18 13:41:00  Business  Unknown Location   \n",
       "1058 2016-12-18 16:38:00 2016-12-18 17:25:00  Business  Unknown Location   \n",
       "1059 2016-12-18 20:35:00 2016-12-18 21:04:00  Business  Unknown Location   \n",
       "...                  ...                 ...       ...               ...   \n",
       "1150 2016-12-31 01:07:00 2016-12-31 01:14:00  Business           Kar?chi   \n",
       "1151 2016-12-31 13:24:00 2016-12-31 13:42:00  Business           Kar?chi   \n",
       "1152 2016-12-31 15:03:00 2016-12-31 15:38:00  Business  Unknown Location   \n",
       "1153 2016-12-31 21:32:00 2016-12-31 21:50:00  Business        Katunayake   \n",
       "1154 2016-12-31 22:08:00 2016-12-31 23:51:00  Business           Gampaha   \n",
       "\n",
       "                 STOP*  MILES*         PURPOSE*  Start Date Start Time  \\\n",
       "1055  Unknown Location     4.8   Airport/Travel  2016-12-17   15:38:00   \n",
       "1056  Unknown Location     5.3   Temporary Site  2016-12-17   17:19:00   \n",
       "1057  Unknown Location     4.9  Errand/Supplies  2016-12-18   13:03:00   \n",
       "1058  Unknown Location    10.2  Errand/Supplies  2016-12-18   16:38:00   \n",
       "1059  Unknown Location     9.2              NaN  2016-12-18   20:35:00   \n",
       "...                ...     ...              ...         ...        ...   \n",
       "1150           Kar?chi     0.7          Meeting  2016-12-31   01:07:00   \n",
       "1151  Unknown Location     3.9   Temporary Site  2016-12-31   13:24:00   \n",
       "1152  Unknown Location    16.2          Meeting  2016-12-31   15:03:00   \n",
       "1153           Gampaha     6.4   Temporary Site  2016-12-31   21:32:00   \n",
       "1154         Ilukwatta    48.2   Temporary Site  2016-12-31   22:08:00   \n",
       "\n",
       "        End Date  End Time  Weekday  Duration  \n",
       "1055  2016-12-17  16:12:00        5      34.0  \n",
       "1056  2016-12-17  17:59:00        5      40.0  \n",
       "1057  2016-12-18  13:41:00        6      38.0  \n",
       "1058  2016-12-18  17:25:00        6      47.0  \n",
       "1059  2016-12-18  21:04:00        6      29.0  \n",
       "...          ...       ...      ...       ...  \n",
       "1150  2016-12-31  01:14:00        5       7.0  \n",
       "1151  2016-12-31  13:42:00        5      18.0  \n",
       "1152  2016-12-31  15:38:00        5      35.0  \n",
       "1153  2016-12-31  21:50:00        5      18.0  \n",
       "1154  2016-12-31  23:51:00        5     103.0  \n",
       "\n",
       "[100 rows x 13 columns]"
      ]
     },
     "execution_count": 24,
     "metadata": {},
     "output_type": "execute_result"
    }
   ],
   "source": [
    "d3"
   ]
  },
  {
   "cell_type": "code",
   "execution_count": 25,
   "metadata": {},
   "outputs": [],
   "source": [
    "# Dropping the concatenated Dataframe using the index to have only US locations in the UberData Dataframe\n",
    "UberData = UberData.drop(pd.concat([d1,d2,d3]).index)"
   ]
  },
  {
   "cell_type": "code",
   "execution_count": 26,
   "metadata": {},
   "outputs": [
    {
     "name": "stdout",
     "output_type": "stream",
     "text": [
      "<class 'pandas.core.frame.DataFrame'>\n",
      "Int64Index: 850 entries, 0 to 1054\n",
      "Data columns (total 13 columns):\n",
      " #   Column       Non-Null Count  Dtype         \n",
      "---  ------       --------------  -----         \n",
      " 0   START_DATE*  850 non-null    datetime64[ns]\n",
      " 1   END_DATE*    850 non-null    datetime64[ns]\n",
      " 2   CATEGORY*    850 non-null    object        \n",
      " 3   START*       850 non-null    object        \n",
      " 4   STOP*        850 non-null    object        \n",
      " 5   MILES*       850 non-null    float64       \n",
      " 6   PURPOSE*     523 non-null    object        \n",
      " 7   Start Date   850 non-null    object        \n",
      " 8   Start Time   850 non-null    object        \n",
      " 9   End Date     850 non-null    object        \n",
      " 10  End Time     850 non-null    object        \n",
      " 11  Weekday      850 non-null    int64         \n",
      " 12  Duration     850 non-null    float64       \n",
      "dtypes: datetime64[ns](2), float64(2), int64(1), object(8)\n",
      "memory usage: 93.0+ KB\n"
     ]
    }
   ],
   "source": [
    "UberData.info()"
   ]
  },
  {
   "cell_type": "markdown",
   "metadata": {},
   "source": [
    "#### 8. The columns 'START_DATE' and 'END_DATE' are also removed by Harsh as their information is present in the columns 'Start Date', 'Start Time', 'End Date' and 'End Time', i.e., they have become redundant.\n"
   ]
  },
  {
   "cell_type": "code",
   "execution_count": 27,
   "metadata": {},
   "outputs": [],
   "source": [
    "UberData = UberData.drop(['START_DATE*','END_DATE*'], axis = 1)"
   ]
  },
  {
   "cell_type": "code",
   "execution_count": 28,
   "metadata": {},
   "outputs": [
    {
     "name": "stdout",
     "output_type": "stream",
     "text": [
      "<class 'pandas.core.frame.DataFrame'>\n",
      "Int64Index: 850 entries, 0 to 1054\n",
      "Data columns (total 11 columns):\n",
      " #   Column      Non-Null Count  Dtype  \n",
      "---  ------      --------------  -----  \n",
      " 0   CATEGORY*   850 non-null    object \n",
      " 1   START*      850 non-null    object \n",
      " 2   STOP*       850 non-null    object \n",
      " 3   MILES*      850 non-null    float64\n",
      " 4   PURPOSE*    523 non-null    object \n",
      " 5   Start Date  850 non-null    object \n",
      " 6   Start Time  850 non-null    object \n",
      " 7   End Date    850 non-null    object \n",
      " 8   End Time    850 non-null    object \n",
      " 9   Weekday     850 non-null    int64  \n",
      " 10  Duration    850 non-null    float64\n",
      "dtypes: float64(2), int64(1), object(8)\n",
      "memory usage: 79.7+ KB\n"
     ]
    }
   ],
   "source": [
    "UberData.info()"
   ]
  },
  {
   "cell_type": "markdown",
   "metadata": {},
   "source": [
    "#### 9. Finally, Harsh imputes the feature 'PURPOSE*' with the modal value since it is a categorical variable."
   ]
  },
  {
   "cell_type": "code",
   "execution_count": 29,
   "metadata": {},
   "outputs": [
    {
     "data": {
      "text/plain": [
       "Meeting            158\n",
       "Meal/Entertain     139\n",
       "Errand/Supplies     92\n",
       "Customer Visit      86\n",
       "Temporary Site      25\n",
       "Between Offices     17\n",
       "Moving               4\n",
       "Commute              1\n",
       "Charity ($)          1\n",
       "Name: PURPOSE*, dtype: int64"
      ]
     },
     "execution_count": 29,
     "metadata": {},
     "output_type": "execute_result"
    }
   ],
   "source": [
    "UberData['PURPOSE*'].value_counts()"
   ]
  },
  {
   "cell_type": "code",
   "execution_count": 30,
   "metadata": {},
   "outputs": [
    {
     "data": {
      "text/plain": [
       "'Meeting'"
      ]
     },
     "execution_count": 30,
     "metadata": {},
     "output_type": "execute_result"
    }
   ],
   "source": [
    "mode = UberData['PURPOSE*'].mode()[0]\n",
    "mode"
   ]
  },
  {
   "cell_type": "code",
   "execution_count": 31,
   "metadata": {},
   "outputs": [],
   "source": [
    "# data imputation with mode\n",
    "mode =UberData['PURPOSE*'].mode()[0]\n",
    "UberData['PURPOSE*'] = UberData['PURPOSE*'].fillna(mode)"
   ]
  },
  {
   "cell_type": "code",
   "execution_count": 33,
   "metadata": {},
   "outputs": [
    {
     "name": "stdout",
     "output_type": "stream",
     "text": [
      "<class 'pandas.core.frame.DataFrame'>\n",
      "Int64Index: 850 entries, 0 to 1054\n",
      "Data columns (total 11 columns):\n",
      " #   Column      Non-Null Count  Dtype  \n",
      "---  ------      --------------  -----  \n",
      " 0   CATEGORY*   850 non-null    object \n",
      " 1   START*      850 non-null    object \n",
      " 2   STOP*       850 non-null    object \n",
      " 3   MILES*      850 non-null    float64\n",
      " 4   PURPOSE*    850 non-null    object \n",
      " 5   Start Date  850 non-null    object \n",
      " 6   Start Time  850 non-null    object \n",
      " 7   End Date    850 non-null    object \n",
      " 8   End Time    850 non-null    object \n",
      " 9   Weekday     850 non-null    int64  \n",
      " 10  Duration    850 non-null    float64\n",
      "dtypes: float64(2), int64(1), object(8)\n",
      "memory usage: 79.7+ KB\n"
     ]
    }
   ],
   "source": [
    "UberData.info()"
   ]
  },
  {
   "cell_type": "markdown",
   "metadata": {},
   "source": [
    "#### Export the cleaned CSV file. The cleaned file will be used for further analysis of the Uber dataset"
   ]
  },
  {
   "cell_type": "code",
   "execution_count": 34,
   "metadata": {},
   "outputs": [],
   "source": [
    "UberData.to_csv('UberDataClean.csv',index=False)"
   ]
  },
  {
   "cell_type": "code",
   "execution_count": 38,
   "metadata": {},
   "outputs": [],
   "source": [
    "UberData = pd.read_csv('UberDataClean.csv')"
   ]
  },
  {
   "cell_type": "code",
   "execution_count": 39,
   "metadata": {},
   "outputs": [
    {
     "data": {
      "text/html": [
       "<div>\n",
       "<style scoped>\n",
       "    .dataframe tbody tr th:only-of-type {\n",
       "        vertical-align: middle;\n",
       "    }\n",
       "\n",
       "    .dataframe tbody tr th {\n",
       "        vertical-align: top;\n",
       "    }\n",
       "\n",
       "    .dataframe thead th {\n",
       "        text-align: right;\n",
       "    }\n",
       "</style>\n",
       "<table border=\"1\" class=\"dataframe\">\n",
       "  <thead>\n",
       "    <tr style=\"text-align: right;\">\n",
       "      <th></th>\n",
       "      <th>CATEGORY*</th>\n",
       "      <th>START*</th>\n",
       "      <th>STOP*</th>\n",
       "      <th>MILES*</th>\n",
       "      <th>PURPOSE*</th>\n",
       "      <th>Start Date</th>\n",
       "      <th>Start Time</th>\n",
       "      <th>End Date</th>\n",
       "      <th>End Time</th>\n",
       "      <th>Weekday</th>\n",
       "      <th>Duration</th>\n",
       "    </tr>\n",
       "  </thead>\n",
       "  <tbody>\n",
       "    <tr>\n",
       "      <th>0</th>\n",
       "      <td>Business</td>\n",
       "      <td>Fort Pierce</td>\n",
       "      <td>Fort Pierce</td>\n",
       "      <td>5.1</td>\n",
       "      <td>Meal/Entertain</td>\n",
       "      <td>2016-01-01</td>\n",
       "      <td>21:11:00</td>\n",
       "      <td>2016-01-01</td>\n",
       "      <td>21:17:00</td>\n",
       "      <td>4</td>\n",
       "      <td>6.0</td>\n",
       "    </tr>\n",
       "    <tr>\n",
       "      <th>1</th>\n",
       "      <td>Business</td>\n",
       "      <td>Fort Pierce</td>\n",
       "      <td>Fort Pierce</td>\n",
       "      <td>5.0</td>\n",
       "      <td>Meeting</td>\n",
       "      <td>2016-01-02</td>\n",
       "      <td>01:25:00</td>\n",
       "      <td>2016-01-02</td>\n",
       "      <td>01:37:00</td>\n",
       "      <td>5</td>\n",
       "      <td>12.0</td>\n",
       "    </tr>\n",
       "    <tr>\n",
       "      <th>2</th>\n",
       "      <td>Business</td>\n",
       "      <td>Fort Pierce</td>\n",
       "      <td>Fort Pierce</td>\n",
       "      <td>4.8</td>\n",
       "      <td>Errand/Supplies</td>\n",
       "      <td>2016-01-02</td>\n",
       "      <td>20:25:00</td>\n",
       "      <td>2016-01-02</td>\n",
       "      <td>20:38:00</td>\n",
       "      <td>5</td>\n",
       "      <td>13.0</td>\n",
       "    </tr>\n",
       "    <tr>\n",
       "      <th>3</th>\n",
       "      <td>Business</td>\n",
       "      <td>Fort Pierce</td>\n",
       "      <td>Fort Pierce</td>\n",
       "      <td>4.7</td>\n",
       "      <td>Meeting</td>\n",
       "      <td>2016-01-05</td>\n",
       "      <td>17:31:00</td>\n",
       "      <td>2016-01-05</td>\n",
       "      <td>17:45:00</td>\n",
       "      <td>1</td>\n",
       "      <td>14.0</td>\n",
       "    </tr>\n",
       "    <tr>\n",
       "      <th>4</th>\n",
       "      <td>Business</td>\n",
       "      <td>Fort Pierce</td>\n",
       "      <td>West Palm Beach</td>\n",
       "      <td>63.7</td>\n",
       "      <td>Customer Visit</td>\n",
       "      <td>2016-01-06</td>\n",
       "      <td>14:42:00</td>\n",
       "      <td>2016-01-06</td>\n",
       "      <td>15:49:00</td>\n",
       "      <td>2</td>\n",
       "      <td>67.0</td>\n",
       "    </tr>\n",
       "  </tbody>\n",
       "</table>\n",
       "</div>"
      ],
      "text/plain": [
       "  CATEGORY*       START*            STOP*  MILES*         PURPOSE*  \\\n",
       "0  Business  Fort Pierce      Fort Pierce     5.1   Meal/Entertain   \n",
       "1  Business  Fort Pierce      Fort Pierce     5.0          Meeting   \n",
       "2  Business  Fort Pierce      Fort Pierce     4.8  Errand/Supplies   \n",
       "3  Business  Fort Pierce      Fort Pierce     4.7          Meeting   \n",
       "4  Business  Fort Pierce  West Palm Beach    63.7   Customer Visit   \n",
       "\n",
       "   Start Date Start Time    End Date  End Time  Weekday  Duration  \n",
       "0  2016-01-01   21:11:00  2016-01-01  21:17:00        4       6.0  \n",
       "1  2016-01-02   01:25:00  2016-01-02  01:37:00        5      12.0  \n",
       "2  2016-01-02   20:25:00  2016-01-02  20:38:00        5      13.0  \n",
       "3  2016-01-05   17:31:00  2016-01-05  17:45:00        1      14.0  \n",
       "4  2016-01-06   14:42:00  2016-01-06  15:49:00        2      67.0  "
      ]
     },
     "execution_count": 39,
     "metadata": {},
     "output_type": "execute_result"
    }
   ],
   "source": [
    "UberData.head()"
   ]
  },
  {
   "cell_type": "markdown",
   "metadata": {},
   "source": [
    "## Descriptive Analysis"
   ]
  },
  {
   "cell_type": "markdown",
   "metadata": {},
   "source": [
    "#### 1. He displays the statistical summary of the numerical variables to get an idea of the average distance covered and the time duration of the cab rides taken by Jacob. "
   ]
  },
  {
   "cell_type": "code",
   "execution_count": 40,
   "metadata": {},
   "outputs": [
    {
     "data": {
      "text/html": [
       "<div>\n",
       "<style scoped>\n",
       "    .dataframe tbody tr th:only-of-type {\n",
       "        vertical-align: middle;\n",
       "    }\n",
       "\n",
       "    .dataframe tbody tr th {\n",
       "        vertical-align: top;\n",
       "    }\n",
       "\n",
       "    .dataframe thead th {\n",
       "        text-align: right;\n",
       "    }\n",
       "</style>\n",
       "<table border=\"1\" class=\"dataframe\">\n",
       "  <thead>\n",
       "    <tr style=\"text-align: right;\">\n",
       "      <th></th>\n",
       "      <th>count</th>\n",
       "      <th>mean</th>\n",
       "      <th>std</th>\n",
       "      <th>min</th>\n",
       "      <th>25%</th>\n",
       "      <th>50%</th>\n",
       "      <th>75%</th>\n",
       "      <th>max</th>\n",
       "    </tr>\n",
       "  </thead>\n",
       "  <tbody>\n",
       "    <tr>\n",
       "      <th>MILES*</th>\n",
       "      <td>850.0</td>\n",
       "      <td>10.477765</td>\n",
       "      <td>22.443873</td>\n",
       "      <td>0.5</td>\n",
       "      <td>2.8</td>\n",
       "      <td>5.85</td>\n",
       "      <td>10.4</td>\n",
       "      <td>310.3</td>\n",
       "    </tr>\n",
       "    <tr>\n",
       "      <th>Weekday</th>\n",
       "      <td>850.0</td>\n",
       "      <td>3.023529</td>\n",
       "      <td>1.992781</td>\n",
       "      <td>0.0</td>\n",
       "      <td>1.0</td>\n",
       "      <td>3.00</td>\n",
       "      <td>5.0</td>\n",
       "      <td>6.0</td>\n",
       "    </tr>\n",
       "    <tr>\n",
       "      <th>Duration</th>\n",
       "      <td>850.0</td>\n",
       "      <td>21.301176</td>\n",
       "      <td>24.237316</td>\n",
       "      <td>1.0</td>\n",
       "      <td>10.0</td>\n",
       "      <td>16.00</td>\n",
       "      <td>25.0</td>\n",
       "      <td>330.0</td>\n",
       "    </tr>\n",
       "  </tbody>\n",
       "</table>\n",
       "</div>"
      ],
      "text/plain": [
       "          count       mean        std  min   25%    50%   75%    max\n",
       "MILES*    850.0  10.477765  22.443873  0.5   2.8   5.85  10.4  310.3\n",
       "Weekday   850.0   3.023529   1.992781  0.0   1.0   3.00   5.0    6.0\n",
       "Duration  850.0  21.301176  24.237316  1.0  10.0  16.00  25.0  330.0"
      ]
     },
     "execution_count": 40,
     "metadata": {},
     "output_type": "execute_result"
    }
   ],
   "source": [
    "UberData.describe().transpose()"
   ]
  },
  {
   "cell_type": "code",
   "execution_count": 41,
   "metadata": {
    "scrolled": true
   },
   "outputs": [
    {
     "data": {
      "text/plain": [
       "(array([813.,  19.,   6.,   1.,   4.,   3.,   3.,   0.,   0.,   1.]),\n",
       " array([  0.5 ,  31.48,  62.46,  93.44, 124.42, 155.4 , 186.38, 217.36,\n",
       "        248.34, 279.32, 310.3 ]),\n",
       " <a list of 10 Patch objects>)"
      ]
     },
     "execution_count": 41,
     "metadata": {},
     "output_type": "execute_result"
    },
    {
     "data": {
      "image/png": "[encoded data removed]",
      "text/plain": [
       "<Figure size 432x288 with 1 Axes>"
      ]
     },
     "metadata": {
      "needs_background": "light"
     },
     "output_type": "display_data"
    }
   ],
   "source": [
    "plt.hist(UberData['MILES*'])"
   ]
  },
  {
   "cell_type": "code",
   "execution_count": 42,
   "metadata": {},
   "outputs": [
    {
     "data": {
      "text/plain": [
       "(array([747.,  78.,   9.,   5.,   5.,   4.,   1.,   0.,   0.,   1.]),\n",
       " array([  1. ,  33.9,  66.8,  99.7, 132.6, 165.5, 198.4, 231.3, 264.2,\n",
       "        297.1, 330. ]),\n",
       " <a list of 10 Patch objects>)"
      ]
     },
     "execution_count": 42,
     "metadata": {},
     "output_type": "execute_result"
    },
    {
     "data": {
      "image/png": "[encoded data removed]",
      "text/plain": [
       "<Figure size 432x288 with 1 Axes>"
      ]
     },
     "metadata": {
      "needs_background": "light"
     },
     "output_type": "display_data"
    }
   ],
   "source": [
    "plt.hist(UberData['Duration'])"
   ]
  },
  {
   "cell_type": "markdown",
   "metadata": {},
   "source": [
    "##### Both of the above are positively skewed distribution"
   ]
  },
  {
   "cell_type": "markdown",
   "metadata": {},
   "source": [
    "#### 2. Next, he analyses the distributions of the two categorical variables ‘CATEGORY*’ and ‘PURPOSE*’ using bar plots. "
   ]
  },
  {
   "cell_type": "code",
   "execution_count": 43,
   "metadata": {},
   "outputs": [
    {
     "name": "stdout",
     "output_type": "stream",
     "text": [
      "Business    781\n",
      "Personal     69\n",
      "Name: CATEGORY*, dtype: int64\n"
     ]
    },
    {
     "data": {
      "text/plain": [
       "<matplotlib.axes._subplots.AxesSubplot at 0x2a1dbd30d48>"
      ]
     },
     "execution_count": 43,
     "metadata": {},
     "output_type": "execute_result"
    },
    {
     "data": {
      "image/png": "[encoded data removed]",
      "text/plain": [
       "<Figure size 432x288 with 1 Axes>"
      ]
     },
     "metadata": {
      "needs_background": "light"
     },
     "output_type": "display_data"
    }
   ],
   "source": [
    "# bar plot of the 'CATEGORY*' column\n",
    "print(UberData['CATEGORY*'].value_counts())\n",
    "sns.countplot(x='CATEGORY*', data=UberData)"
   ]
  },
  {
   "cell_type": "code",
   "execution_count": 44,
   "metadata": {},
   "outputs": [
    {
     "name": "stdout",
     "output_type": "stream",
     "text": [
      "Meeting            485\n",
      "Meal/Entertain     139\n",
      "Errand/Supplies     92\n",
      "Customer Visit      86\n",
      "Temporary Site      25\n",
      "Between Offices     17\n",
      "Moving               4\n",
      "Commute              1\n",
      "Charity ($)          1\n",
      "Name: PURPOSE*, dtype: int64\n"
     ]
    },
    {
     "data": {
      "image/png": "[encoded data removed]",
      "text/plain": [
       "<Figure size 432x288 with 1 Axes>"
      ]
     },
     "metadata": {
      "needs_background": "light"
     },
     "output_type": "display_data"
    }
   ],
   "source": [
    "# bar plot of the 'PURPOSE*' column\n",
    "print(UberData['PURPOSE*'].value_counts())\n",
    "sns.countplot(x='PURPOSE*', data=UberData, order=UberData['PURPOSE*'].value_counts().index)\n",
    "plt.xticks(rotation=90);"
   ]
  },
  {
   "cell_type": "markdown",
   "metadata": {},
   "source": [
    "#### 3. Harsh makes a count plot for the days of the week, which will display the no. of trips made on the specific days of the week. "
   ]
  },
  {
   "cell_type": "code",
   "execution_count": 45,
   "metadata": {},
   "outputs": [
    {
     "name": "stdout",
     "output_type": "stream",
     "text": [
      "4    152\n",
      "1    122\n",
      "0    121\n",
      "6    118\n",
      "5    117\n",
      "2    113\n",
      "3    107\n",
      "Name: Weekday, dtype: int64\n"
     ]
    },
    {
     "data": {
      "image/png": "[encoded data removed]",
      "text/plain": [
       "<Figure size 432x288 with 1 Axes>"
      ]
     },
     "metadata": {
      "needs_background": "light"
     },
     "output_type": "display_data"
    }
   ],
   "source": [
    "# count of the number of trips made on the different days of the week\n",
    "print(UberData['Weekday'].value_counts())\n",
    "sns.countplot(x='Weekday', data=UberData);\n"
   ]
  },
  {
   "cell_type": "markdown",
   "metadata": {},
   "source": [
    "#### 4. The next thing that Harsh moves on to is inspecting the distributions of the two numerical variables ‘MILES*’ and ‘Duration’. He also creates boxplots to check if there are any outliers present in the dataset."
   ]
  },
  {
   "cell_type": "code",
   "execution_count": 47,
   "metadata": {},
   "outputs": [
    {
     "data": {
      "text/plain": [
       "<matplotlib.axes._subplots.AxesSubplot at 0x2a1dc3569c8>"
      ]
     },
     "execution_count": 47,
     "metadata": {},
     "output_type": "execute_result"
    },
    {
     "data": {
      "image/png": "[encoded data removed]",
      "text/plain": [
       "<Figure size 432x288 with 1 Axes>"
      ]
     },
     "metadata": {
      "needs_background": "light"
     },
     "output_type": "display_data"
    }
   ],
   "source": [
    "# histogram and kdeplot of the 'MILES*' variable\n",
    "sns.distplot(UberData['MILES*'])\n",
    "#plt.xlim(0, 50)"
   ]
  },
  {
   "cell_type": "code",
   "execution_count": 50,
   "metadata": {},
   "outputs": [
    {
     "data": {
      "text/plain": [
       "(0, 50)"
      ]
     },
     "execution_count": 50,
     "metadata": {},
     "output_type": "execute_result"
    },
    {
     "data": {
      "image/png": "[encoded data removed]",
      "text/plain": [
       "<Figure size 432x288 with 1 Axes>"
      ]
     },
     "metadata": {
      "needs_background": "light"
     },
     "output_type": "display_data"
    }
   ],
   "source": [
    "# To analyze distribution below 50\n",
    "sns.distplot(UberData['MILES*'])\n",
    "plt.xlim(0, 50)"
   ]
  },
  {
   "cell_type": "code",
   "execution_count": 49,
   "metadata": {},
   "outputs": [
    {
     "data": {
      "text/plain": [
       "(0, 50)"
      ]
     },
     "execution_count": 49,
     "metadata": {},
     "output_type": "execute_result"
    },
    {
     "data": {
      "image/png": "[encoded data removed]",
      "text/plain": [
       "<Figure size 432x288 with 1 Axes>"
      ]
     },
     "metadata": {
      "needs_background": "light"
     },
     "output_type": "display_data"
    }
   ],
   "source": [
    "# boxplot to look for outliers\n",
    "sns.boxplot(UberData['MILES*'])\n",
    "plt.xlim(0, 50)"
   ]
  },
  {
   "cell_type": "markdown",
   "metadata": {},
   "source": [
    "###### But the above ones are not actually outliers, they are just improbable points."
   ]
  },
  {
   "cell_type": "code",
   "execution_count": 51,
   "metadata": {},
   "outputs": [
    {
     "data": {
      "text/plain": [
       "<matplotlib.axes._subplots.AxesSubplot at 0x2a1dc58dd08>"
      ]
     },
     "execution_count": 51,
     "metadata": {},
     "output_type": "execute_result"
    },
    {
     "data": {
      "image/png": "[encoded data removed]",
      "text/plain": [
       "<Figure size 432x288 with 1 Axes>"
      ]
     },
     "metadata": {
      "needs_background": "light"
     },
     "output_type": "display_data"
    }
   ],
   "source": [
    "# histogram and kdeplot of the 'Duration' variable\n",
    "sns.distplot(UberData['Duration'])\n",
    "#plt.xlim(0, 50)"
   ]
  },
  {
   "cell_type": "code",
   "execution_count": 52,
   "metadata": {},
   "outputs": [
    {
     "data": {
      "text/plain": [
       "(0, 50)"
      ]
     },
     "execution_count": 52,
     "metadata": {},
     "output_type": "execute_result"
    },
    {
     "data": {
      "image/png": "[encoded data removed]",
      "text/plain": [
       "<Figure size 432x288 with 1 Axes>"
      ]
     },
     "metadata": {
      "needs_background": "light"
     },
     "output_type": "display_data"
    }
   ],
   "source": [
    "sns.distplot(UberData['Duration'])\n",
    "plt.xlim(0, 50)"
   ]
  },
  {
   "cell_type": "code",
   "execution_count": 53,
   "metadata": {},
   "outputs": [
    {
     "data": {
      "text/plain": [
       "(0, 50)"
      ]
     },
     "execution_count": 53,
     "metadata": {},
     "output_type": "execute_result"
    },
    {
     "data": {
      "image/png": "[encoded data removed]",
      "text/plain": [
       "<Figure size 432x288 with 2 Axes>"
      ]
     },
     "metadata": {
      "needs_background": "light"
     },
     "output_type": "display_data"
    }
   ],
   "source": [
    "# histogram and kdeplot of the 'Duration' variable\n",
    "plt.subplot(1, 2, 1)\n",
    "sns.distplot(UberData['Duration'])\n",
    "plt.xlim(0, 50)\n",
    "\n",
    "# boxplot to look for outliers\n",
    "plt.subplot(1, 2, 2)\n",
    "sns.boxplot(UberData['Duration'])\n",
    "plt.xlim(0, 50)"
   ]
  },
  {
   "cell_type": "markdown",
   "metadata": {},
   "source": [
    "#### 5. Harsh expects that Jacob takes the maximum number of cab rides during the office hours. This is what he examines next. He makes bar plots to know how many trips start and end in different hours throughout the day. Similarly, he also analyses the frequency of trips during the different months of the year and the no. of trips taken on different days of the month. "
   ]
  },
  {
   "cell_type": "code",
   "execution_count": 42,
   "metadata": {},
   "outputs": [
    {
     "data": {
      "text/plain": [
       "<matplotlib.axes._subplots.AxesSubplot at 0x205564a2688>"
      ]
     },
     "execution_count": 42,
     "metadata": {},
     "output_type": "execute_result"
    },
    {
     "data": {
      "image/png": "[encoded data removed]",
      "text/plain": [
       "<Figure size 432x288 with 1 Axes>"
      ]
     },
     "metadata": {
      "needs_background": "light"
     },
     "output_type": "display_data"
    }
   ],
   "source": [
    "# count of the number of trips made on the different hours of the day\n",
    "start_hour = pd.to_datetime(UberData['Start Time']).dt.hour.value_counts()\n",
    "\n",
    "sns.barplot(x=start_hour.index, y=list(start_hour))"
   ]
  },
  {
   "cell_type": "code",
   "execution_count": 43,
   "metadata": {},
   "outputs": [
    {
     "data": {
      "text/plain": [
       "<matplotlib.axes._subplots.AxesSubplot at 0x20556b9c348>"
      ]
     },
     "execution_count": 43,
     "metadata": {},
     "output_type": "execute_result"
    },
    {
     "data": {
      "image/png": "[encoded data removed]",
      "text/plain": [
       "<Figure size 432x288 with 1 Axes>"
      ]
     },
     "metadata": {
      "needs_background": "light"
     },
     "output_type": "display_data"
    }
   ],
   "source": [
    "end_hour = pd.to_datetime(UberData['End Time']).dt.hour.value_counts()\n",
    "\n",
    "sns.barplot(x=end_hour.index, y=list(end_hour))"
   ]
  },
  {
   "cell_type": "code",
   "execution_count": 56,
   "metadata": {},
   "outputs": [
    {
     "data": {
      "text/plain": [
       "<matplotlib.axes._subplots.AxesSubplot at 0x2a1daa33d08>"
      ]
     },
     "execution_count": 56,
     "metadata": {},
     "output_type": "execute_result"
    },
    {
     "data": {
      "image/png": "[encoded data removed]",
      "text/plain": [
       "<Figure size 432x288 with 1 Axes>"
      ]
     },
     "metadata": {
      "needs_background": "light"
     },
     "output_type": "display_data"
    }
   ],
   "source": [
    "# count of the number of trips made on the different months of the year\n",
    "sns.countplot(pd.to_datetime(UberData['Start Date']).dt.month)\n"
   ]
  },
  {
   "cell_type": "code",
   "execution_count": 58,
   "metadata": {},
   "outputs": [
    {
     "data": {
      "text/plain": [
       "<matplotlib.axes._subplots.AxesSubplot at 0x2a1dc5f5188>"
      ]
     },
     "execution_count": 58,
     "metadata": {},
     "output_type": "execute_result"
    },
    {
     "data": {
      "image/png": "[encoded data removed]",
      "text/plain": [
       "<Figure size 432x288 with 1 Axes>"
      ]
     },
     "metadata": {
      "needs_background": "light"
     },
     "output_type": "display_data"
    }
   ],
   "source": [
    "# count of the number of trips made on the different days of the month\n",
    "sns.countplot(pd.to_datetime(UberData['Start Date']).dt.day)"
   ]
  },
  {
   "cell_type": "code",
   "execution_count": 60,
   "metadata": {},
   "outputs": [
    {
     "data": {
      "text/plain": [
       "Cary              201\n",
       "Morrisville        85\n",
       "Whitebridge        68\n",
       "Durham             37\n",
       "Raleigh            28\n",
       "Apex               17\n",
       "Westpark Place     17\n",
       "Berkeley           16\n",
       "Midtown            14\n",
       "Kissimmee          11\n",
       "Name: START*, dtype: int64"
      ]
     },
     "execution_count": 60,
     "metadata": {},
     "output_type": "execute_result"
    }
   ],
   "source": [
    "# most frequent start locations\n",
    "UberData['START*'].value_counts().nlargest(10)"
   ]
  },
  {
   "cell_type": "code",
   "execution_count": 61,
   "metadata": {},
   "outputs": [
    {
     "data": {
      "text/plain": [
       "Cary              203\n",
       "Morrisville        84\n",
       "Whitebridge        65\n",
       "Durham             36\n",
       "Raleigh            29\n",
       "Apex               17\n",
       "Westpark Place     16\n",
       "Berkeley           16\n",
       "Kissimmee          12\n",
       "Midtown            11\n",
       "Name: STOP*, dtype: int64"
      ]
     },
     "execution_count": 61,
     "metadata": {},
     "output_type": "execute_result"
    }
   ],
   "source": [
    "# most frequent end locations\n",
    "UberData['STOP*'].value_counts().nlargest(10)"
   ]
  },
  {
   "cell_type": "code",
   "execution_count": 62,
   "metadata": {},
   "outputs": [],
   "source": [
    "# dataframe of most frequent locations\n",
    "most_frequent_stops = UberData['STOP*'].value_counts().nlargest(10).index\n",
    "\n",
    "df_filtered = UberData[UberData['STOP*'].isin(most_frequent_stops)]"
   ]
  },
  {
   "cell_type": "code",
   "execution_count": 64,
   "metadata": {},
   "outputs": [
    {
     "data": {
      "text/html": [
       "<div>\n",
       "<style scoped>\n",
       "    .dataframe tbody tr th:only-of-type {\n",
       "        vertical-align: middle;\n",
       "    }\n",
       "\n",
       "    .dataframe tbody tr th {\n",
       "        vertical-align: top;\n",
       "    }\n",
       "\n",
       "    .dataframe thead th {\n",
       "        text-align: right;\n",
       "    }\n",
       "</style>\n",
       "<table border=\"1\" class=\"dataframe\">\n",
       "  <thead>\n",
       "    <tr style=\"text-align: right;\">\n",
       "      <th>CATEGORY*</th>\n",
       "      <th>Business</th>\n",
       "      <th>Personal</th>\n",
       "    </tr>\n",
       "    <tr>\n",
       "      <th>STOP*</th>\n",
       "      <th></th>\n",
       "      <th></th>\n",
       "    </tr>\n",
       "  </thead>\n",
       "  <tbody>\n",
       "    <tr>\n",
       "      <th>Apex</th>\n",
       "      <td>17</td>\n",
       "      <td>0</td>\n",
       "    </tr>\n",
       "    <tr>\n",
       "      <th>Berkeley</th>\n",
       "      <td>16</td>\n",
       "      <td>0</td>\n",
       "    </tr>\n",
       "    <tr>\n",
       "      <th>Cary</th>\n",
       "      <td>197</td>\n",
       "      <td>6</td>\n",
       "    </tr>\n",
       "    <tr>\n",
       "      <th>Durham</th>\n",
       "      <td>36</td>\n",
       "      <td>0</td>\n",
       "    </tr>\n",
       "    <tr>\n",
       "      <th>Kissimmee</th>\n",
       "      <td>6</td>\n",
       "      <td>6</td>\n",
       "    </tr>\n",
       "    <tr>\n",
       "      <th>Midtown</th>\n",
       "      <td>10</td>\n",
       "      <td>1</td>\n",
       "    </tr>\n",
       "    <tr>\n",
       "      <th>Morrisville</th>\n",
       "      <td>80</td>\n",
       "      <td>4</td>\n",
       "    </tr>\n",
       "    <tr>\n",
       "      <th>Raleigh</th>\n",
       "      <td>29</td>\n",
       "      <td>0</td>\n",
       "    </tr>\n",
       "    <tr>\n",
       "      <th>Westpark Place</th>\n",
       "      <td>12</td>\n",
       "      <td>4</td>\n",
       "    </tr>\n",
       "    <tr>\n",
       "      <th>Whitebridge</th>\n",
       "      <td>56</td>\n",
       "      <td>9</td>\n",
       "    </tr>\n",
       "  </tbody>\n",
       "</table>\n",
       "</div>"
      ],
      "text/plain": [
       "CATEGORY*       Business  Personal\n",
       "STOP*                             \n",
       "Apex                  17         0\n",
       "Berkeley              16         0\n",
       "Cary                 197         6\n",
       "Durham                36         0\n",
       "Kissimmee              6         6\n",
       "Midtown               10         1\n",
       "Morrisville           80         4\n",
       "Raleigh               29         0\n",
       "Westpark Place        12         4\n",
       "Whitebridge           56         9"
      ]
     },
     "execution_count": 64,
     "metadata": {},
     "output_type": "execute_result"
    }
   ],
   "source": [
    "pd.crosstab(df_filtered['STOP*'], df_filtered['CATEGORY*'])"
   ]
  },
  {
   "cell_type": "code",
   "execution_count": 63,
   "metadata": {},
   "outputs": [
    {
     "data": {
      "text/plain": [
       "<matplotlib.axes._subplots.AxesSubplot at 0x2a1dc73ec48>"
      ]
     },
     "execution_count": 63,
     "metadata": {},
     "output_type": "execute_result"
    },
    {
     "data": {
      "image/png": "[encoded data removed]",
      "text/plain": [
       "<Figure size 432x288 with 1 Axes>"
      ]
     },
     "metadata": {
      "needs_background": "light"
     },
     "output_type": "display_data"
    }
   ],
   "source": [
    "# stacked bar chart \n",
    "# crosstab is for two categorical variables\n",
    "pd.crosstab(df_filtered['STOP*'], df_filtered['CATEGORY*']).plot.bar(stacked=True)"
   ]
  },
  {
   "cell_type": "code",
   "execution_count": 45,
   "metadata": {},
   "outputs": [
    {
     "data": {
      "text/html": [
       "<div>\n",
       "<style scoped>\n",
       "    .dataframe tbody tr th:only-of-type {\n",
       "        vertical-align: middle;\n",
       "    }\n",
       "\n",
       "    .dataframe tbody tr th {\n",
       "        vertical-align: top;\n",
       "    }\n",
       "\n",
       "    .dataframe thead th {\n",
       "        text-align: right;\n",
       "    }\n",
       "</style>\n",
       "<table border=\"1\" class=\"dataframe\">\n",
       "  <thead>\n",
       "    <tr style=\"text-align: right;\">\n",
       "      <th></th>\n",
       "      <th>MILES*</th>\n",
       "      <th>Weekday</th>\n",
       "      <th>Duration</th>\n",
       "    </tr>\n",
       "  </thead>\n",
       "  <tbody>\n",
       "    <tr>\n",
       "      <th>count</th>\n",
       "      <td>118.000000</td>\n",
       "      <td>118.000000</td>\n",
       "      <td>118.000000</td>\n",
       "    </tr>\n",
       "    <tr>\n",
       "      <th>mean</th>\n",
       "      <td>4.683051</td>\n",
       "      <td>3.008475</td>\n",
       "      <td>14.805085</td>\n",
       "    </tr>\n",
       "    <tr>\n",
       "      <th>std</th>\n",
       "      <td>5.028471</td>\n",
       "      <td>1.958963</td>\n",
       "      <td>11.862646</td>\n",
       "    </tr>\n",
       "    <tr>\n",
       "      <th>min</th>\n",
       "      <td>0.500000</td>\n",
       "      <td>0.000000</td>\n",
       "      <td>1.000000</td>\n",
       "    </tr>\n",
       "    <tr>\n",
       "      <th>25%</th>\n",
       "      <td>1.800000</td>\n",
       "      <td>1.000000</td>\n",
       "      <td>7.250000</td>\n",
       "    </tr>\n",
       "    <tr>\n",
       "      <th>50%</th>\n",
       "      <td>3.400000</td>\n",
       "      <td>3.000000</td>\n",
       "      <td>12.000000</td>\n",
       "    </tr>\n",
       "    <tr>\n",
       "      <th>75%</th>\n",
       "      <td>5.500000</td>\n",
       "      <td>5.000000</td>\n",
       "      <td>16.000000</td>\n",
       "    </tr>\n",
       "    <tr>\n",
       "      <th>max</th>\n",
       "      <td>39.200000</td>\n",
       "      <td>6.000000</td>\n",
       "      <td>65.000000</td>\n",
       "    </tr>\n",
       "  </tbody>\n",
       "</table>\n",
       "</div>"
      ],
      "text/plain": [
       "           MILES*     Weekday    Duration\n",
       "count  118.000000  118.000000  118.000000\n",
       "mean     4.683051    3.008475   14.805085\n",
       "std      5.028471    1.958963   11.862646\n",
       "min      0.500000    0.000000    1.000000\n",
       "25%      1.800000    1.000000    7.250000\n",
       "50%      3.400000    3.000000   12.000000\n",
       "75%      5.500000    5.000000   16.000000\n",
       "max     39.200000    6.000000   65.000000"
      ]
     },
     "execution_count": 45,
     "metadata": {},
     "output_type": "execute_result"
    }
   ],
   "source": [
    "# dataframe of trips in same areas\n",
    "df_same_area = UberData[UberData['START*']==UberData['STOP*']]\n",
    "\n",
    "df_same_area.describe()"
   ]
  },
  {
   "cell_type": "code",
   "execution_count": 46,
   "metadata": {},
   "outputs": [
    {
     "data": {
      "text/html": [
       "<div>\n",
       "<style scoped>\n",
       "    .dataframe tbody tr th:only-of-type {\n",
       "        vertical-align: middle;\n",
       "    }\n",
       "\n",
       "    .dataframe tbody tr th {\n",
       "        vertical-align: top;\n",
       "    }\n",
       "\n",
       "    .dataframe thead th {\n",
       "        text-align: right;\n",
       "    }\n",
       "</style>\n",
       "<table border=\"1\" class=\"dataframe\">\n",
       "  <thead>\n",
       "    <tr style=\"text-align: right;\">\n",
       "      <th></th>\n",
       "      <th>MILES*</th>\n",
       "      <th>Weekday</th>\n",
       "      <th>Duration</th>\n",
       "    </tr>\n",
       "  </thead>\n",
       "  <tbody>\n",
       "    <tr>\n",
       "      <th>count</th>\n",
       "      <td>732.000000</td>\n",
       "      <td>732.000000</td>\n",
       "      <td>732.000000</td>\n",
       "    </tr>\n",
       "    <tr>\n",
       "      <th>mean</th>\n",
       "      <td>11.411885</td>\n",
       "      <td>3.025956</td>\n",
       "      <td>22.348361</td>\n",
       "    </tr>\n",
       "    <tr>\n",
       "      <th>std</th>\n",
       "      <td>23.972887</td>\n",
       "      <td>1.999489</td>\n",
       "      <td>25.531188</td>\n",
       "    </tr>\n",
       "    <tr>\n",
       "      <th>min</th>\n",
       "      <td>0.500000</td>\n",
       "      <td>0.000000</td>\n",
       "      <td>2.000000</td>\n",
       "    </tr>\n",
       "    <tr>\n",
       "      <th>25%</th>\n",
       "      <td>3.000000</td>\n",
       "      <td>1.000000</td>\n",
       "      <td>10.000000</td>\n",
       "    </tr>\n",
       "    <tr>\n",
       "      <th>50%</th>\n",
       "      <td>6.250000</td>\n",
       "      <td>3.000000</td>\n",
       "      <td>17.000000</td>\n",
       "    </tr>\n",
       "    <tr>\n",
       "      <th>75%</th>\n",
       "      <td>10.500000</td>\n",
       "      <td>5.000000</td>\n",
       "      <td>25.000000</td>\n",
       "    </tr>\n",
       "    <tr>\n",
       "      <th>max</th>\n",
       "      <td>310.300000</td>\n",
       "      <td>6.000000</td>\n",
       "      <td>330.000000</td>\n",
       "    </tr>\n",
       "  </tbody>\n",
       "</table>\n",
       "</div>"
      ],
      "text/plain": [
       "           MILES*     Weekday    Duration\n",
       "count  732.000000  732.000000  732.000000\n",
       "mean    11.411885    3.025956   22.348361\n",
       "std     23.972887    1.999489   25.531188\n",
       "min      0.500000    0.000000    2.000000\n",
       "25%      3.000000    1.000000   10.000000\n",
       "50%      6.250000    3.000000   17.000000\n",
       "75%     10.500000    5.000000   25.000000\n",
       "max    310.300000    6.000000  330.000000"
      ]
     },
     "execution_count": 46,
     "metadata": {},
     "output_type": "execute_result"
    }
   ],
   "source": [
    "# dataframe of trips in different areas\n",
    "df_diff_area = UberData[UberData['START*']!=UberData['STOP*']]\n",
    "\n",
    "df_diff_area.describe()"
   ]
  },
  {
   "cell_type": "code",
   "execution_count": 47,
   "metadata": {},
   "outputs": [
    {
     "data": {
      "text/plain": [
       "<matplotlib.axes._subplots.AxesSubplot at 0x20556e4c1c8>"
      ]
     },
     "execution_count": 47,
     "metadata": {},
     "output_type": "execute_result"
    },
    {
     "data": {
      "image/png": "[encoded data removed]",
      "text/plain": [
       "<Figure size 432x288 with 1 Axes>"
      ]
     },
     "metadata": {
      "needs_background": "light"
     },
     "output_type": "display_data"
    }
   ],
   "source": [
    "# for trips in same area\n",
    "sns.scatterplot(x=pd.to_datetime(df_same_area['Start Time']).dt.hour, y=df_same_area['Duration'])"
   ]
  },
  {
   "cell_type": "code",
   "execution_count": 48,
   "metadata": {},
   "outputs": [
    {
     "data": {
      "text/plain": [
       "<matplotlib.axes._subplots.AxesSubplot at 0x20556e78488>"
      ]
     },
     "execution_count": 48,
     "metadata": {},
     "output_type": "execute_result"
    },
    {
     "data": {
      "image/png": "[encoded data removed]",
      "text/plain": [
       "<Figure size 432x288 with 1 Axes>"
      ]
     },
     "metadata": {
      "needs_background": "light"
     },
     "output_type": "display_data"
    }
   ],
   "source": [
    "# for trips in different areas\n",
    "sns.scatterplot(x=pd.to_datetime(df_diff_area['Start Time']).dt.hour, y=df_diff_area['Duration'])"
   ]
  },
  {
   "cell_type": "code",
   "execution_count": 71,
   "metadata": {},
   "outputs": [],
   "source": [
    "# dataframe for trips that take place on Fridays\n",
    "df_fri = UberData[UberData['Weekday'] == 4]"
   ]
  },
  {
   "cell_type": "code",
   "execution_count": 72,
   "metadata": {},
   "outputs": [
    {
     "data": {
      "text/html": [
       "<div>\n",
       "<style scoped>\n",
       "    .dataframe tbody tr th:only-of-type {\n",
       "        vertical-align: middle;\n",
       "    }\n",
       "\n",
       "    .dataframe tbody tr th {\n",
       "        vertical-align: top;\n",
       "    }\n",
       "\n",
       "    .dataframe thead th {\n",
       "        text-align: right;\n",
       "    }\n",
       "</style>\n",
       "<table border=\"1\" class=\"dataframe\">\n",
       "  <thead>\n",
       "    <tr style=\"text-align: right;\">\n",
       "      <th></th>\n",
       "      <th>MILES*</th>\n",
       "      <th>Weekday</th>\n",
       "      <th>Duration</th>\n",
       "    </tr>\n",
       "  </thead>\n",
       "  <tbody>\n",
       "    <tr>\n",
       "      <th>count</th>\n",
       "      <td>152.000000</td>\n",
       "      <td>152.0</td>\n",
       "      <td>152.000000</td>\n",
       "    </tr>\n",
       "    <tr>\n",
       "      <th>mean</th>\n",
       "      <td>14.517763</td>\n",
       "      <td>4.0</td>\n",
       "      <td>25.013158</td>\n",
       "    </tr>\n",
       "    <tr>\n",
       "      <th>std</th>\n",
       "      <td>34.459011</td>\n",
       "      <td>0.0</td>\n",
       "      <td>35.104949</td>\n",
       "    </tr>\n",
       "    <tr>\n",
       "      <th>min</th>\n",
       "      <td>0.700000</td>\n",
       "      <td>4.0</td>\n",
       "      <td>2.000000</td>\n",
       "    </tr>\n",
       "    <tr>\n",
       "      <th>25%</th>\n",
       "      <td>3.300000</td>\n",
       "      <td>4.0</td>\n",
       "      <td>11.000000</td>\n",
       "    </tr>\n",
       "    <tr>\n",
       "      <th>50%</th>\n",
       "      <td>8.450000</td>\n",
       "      <td>4.0</td>\n",
       "      <td>18.000000</td>\n",
       "    </tr>\n",
       "    <tr>\n",
       "      <th>75%</th>\n",
       "      <td>11.225000</td>\n",
       "      <td>4.0</td>\n",
       "      <td>24.000000</td>\n",
       "    </tr>\n",
       "    <tr>\n",
       "      <th>max</th>\n",
       "      <td>310.300000</td>\n",
       "      <td>4.0</td>\n",
       "      <td>330.000000</td>\n",
       "    </tr>\n",
       "  </tbody>\n",
       "</table>\n",
       "</div>"
      ],
      "text/plain": [
       "           MILES*  Weekday    Duration\n",
       "count  152.000000    152.0  152.000000\n",
       "mean    14.517763      4.0   25.013158\n",
       "std     34.459011      0.0   35.104949\n",
       "min      0.700000      4.0    2.000000\n",
       "25%      3.300000      4.0   11.000000\n",
       "50%      8.450000      4.0   18.000000\n",
       "75%     11.225000      4.0   24.000000\n",
       "max    310.300000      4.0  330.000000"
      ]
     },
     "execution_count": 72,
     "metadata": {},
     "output_type": "execute_result"
    }
   ],
   "source": [
    "df_fri.describe()"
   ]
  },
  {
   "cell_type": "code",
   "execution_count": 73,
   "metadata": {},
   "outputs": [
    {
     "name": "stdout",
     "output_type": "stream",
     "text": [
      "14\n",
      "138\n"
     ]
    }
   ],
   "source": [
    "# finding the no. of trips in same and different areas on Fridays\n",
    "print(len(df_fri[df_fri['START*'] == df_fri['STOP*']]))\n",
    "print(len(df_fri[df_fri['START*'] != df_fri['STOP*']]))"
   ]
  },
  {
   "cell_type": "code",
   "execution_count": 50,
   "metadata": {},
   "outputs": [
    {
     "name": "stdout",
     "output_type": "stream",
     "text": [
      "count    850.000000\n",
      "mean       0.410076\n",
      "std        0.247251\n",
      "min        0.100000\n",
      "25%        0.263844\n",
      "50%        0.363636\n",
      "75%        0.488810\n",
      "max        3.800000\n",
      "Name: Speed, dtype: float64\n"
     ]
    },
    {
     "data": {
      "image/png": "[encoded data removed]",
      "text/plain": [
       "<Figure size 432x288 with 1 Axes>"
      ]
     },
     "metadata": {
      "needs_background": "light"
     },
     "output_type": "display_data"
    }
   ],
   "source": [
    "# creating the 'Speed' column\n",
    "UberData['Speed'] = UberData['MILES*']/UberData['Duration']\n",
    "\n",
    "# statistical summary\n",
    "print(UberData['Speed'].describe())\n",
    "\n",
    "# histogram\n",
    "plt.hist(UberData['Speed']);"
   ]
  },
  {
   "cell_type": "code",
   "execution_count": 51,
   "metadata": {},
   "outputs": [
    {
     "data": {
      "text/plain": [
       "<matplotlib.axes._subplots.AxesSubplot at 0x205570d7a48>"
      ]
     },
     "execution_count": 51,
     "metadata": {},
     "output_type": "execute_result"
    },
    {
     "data": {
      "image/png": "[encoded data removed]",
      "text/plain": [
       "<Figure size 432x288 with 1 Axes>"
      ]
     },
     "metadata": {
      "needs_background": "light"
     },
     "output_type": "display_data"
    }
   ],
   "source": [
    "# speed during the different hours of the day\n",
    "sns.barplot(x=pd.to_datetime(UberData['Start Time']).dt.hour, y=UberData['Speed'])"
   ]
  },
  {
   "cell_type": "code",
   "execution_count": 76,
   "metadata": {},
   "outputs": [
    {
     "data": {
      "image/png": "[encoded data removed]",
      "text/plain": [
       "<Figure size 432x288 with 1 Axes>"
      ]
     },
     "metadata": {
      "needs_background": "light"
     },
     "output_type": "display_data"
    }
   ],
   "source": [
    "# speed in the different locations of the most frequent starting points\n",
    "most_frequent_starts = UberData['START*'].value_counts().nlargest(10).index\n",
    "\n",
    "df_filtered = UberData[UberData['START*'].isin(most_frequent_starts)]\n",
    "\n",
    "sns.barplot(x='START*', y='Speed', data=df_filtered)\n",
    "plt.xticks(rotation=90);"
   ]
  },
  {
   "cell_type": "markdown",
   "metadata": {},
   "source": [
    "#### Finally, the relationship between the variables 'MILES*' and 'Duration' is inspected. He also wants to check if the weekday that a trip takes place on affects its duration. "
   ]
  },
  {
   "cell_type": "code",
   "execution_count": 77,
   "metadata": {},
   "outputs": [
    {
     "data": {
      "image/png": "[encoded data removed]",
      "text/plain": [
       "<Figure size 432x288 with 1 Axes>"
      ]
     },
     "metadata": {
      "needs_background": "light"
     },
     "output_type": "display_data"
    }
   ],
   "source": [
    "sns.scatterplot(data = UberData, x = 'MILES*', y = 'Duration');"
   ]
  },
  {
   "cell_type": "code",
   "execution_count": 79,
   "metadata": {},
   "outputs": [
    {
     "data": {
      "image/png": "[encoded data removed]",
      "text/plain": [
       "<Figure size 432x288 with 1 Axes>"
      ]
     },
     "metadata": {
      "needs_background": "light"
     },
     "output_type": "display_data"
    }
   ],
   "source": [
    "sns.scatterplot(data = UberData, x = 'MILES*', y = 'Duration', hue = 'Weekday', palette=\"RdBu\");"
   ]
  },
  {
   "cell_type": "code",
   "execution_count": 80,
   "metadata": {},
   "outputs": [
    {
     "data": {
      "text/plain": [
       "(0, 100)"
      ]
     },
     "execution_count": 80,
     "metadata": {},
     "output_type": "execute_result"
    },
    {
     "data": {
      "image/png": "[encoded data removed]",
      "text/plain": [
       "<Figure size 432x288 with 1 Axes>"
      ]
     },
     "metadata": {
      "needs_background": "light"
     },
     "output_type": "display_data"
    }
   ],
   "source": [
    "sns.scatterplot(data = UberData, x = 'MILES*', y = 'Duration', hue = 'Weekday', palette=\"RdBu\");\n",
    "plt.xlim(0,50)\n",
    "plt.ylim(0,100)"
   ]
  },
  {
   "cell_type": "markdown",
   "metadata": {},
   "source": [
    "## Inferential Statistics"
   ]
  },
  {
   "cell_type": "code",
   "execution_count": 82,
   "metadata": {},
   "outputs": [
    {
     "data": {
      "text/html": [
       "<div>\n",
       "<style scoped>\n",
       "    .dataframe tbody tr th:only-of-type {\n",
       "        vertical-align: middle;\n",
       "    }\n",
       "\n",
       "    .dataframe tbody tr th {\n",
       "        vertical-align: top;\n",
       "    }\n",
       "\n",
       "    .dataframe thead th {\n",
       "        text-align: right;\n",
       "    }\n",
       "</style>\n",
       "<table border=\"1\" class=\"dataframe\">\n",
       "  <thead>\n",
       "    <tr style=\"text-align: right;\">\n",
       "      <th></th>\n",
       "      <th>CATEGORY*</th>\n",
       "      <th>START*</th>\n",
       "      <th>STOP*</th>\n",
       "      <th>MILES*</th>\n",
       "      <th>PURPOSE*</th>\n",
       "      <th>Start Date</th>\n",
       "      <th>Start Time</th>\n",
       "      <th>End Date</th>\n",
       "      <th>End Time</th>\n",
       "      <th>Weekday</th>\n",
       "      <th>Duration</th>\n",
       "      <th>Speed</th>\n",
       "    </tr>\n",
       "  </thead>\n",
       "  <tbody>\n",
       "    <tr>\n",
       "      <th>0</th>\n",
       "      <td>Business</td>\n",
       "      <td>Fort Pierce</td>\n",
       "      <td>Fort Pierce</td>\n",
       "      <td>5.1</td>\n",
       "      <td>Meal/Entertain</td>\n",
       "      <td>2016-01-01</td>\n",
       "      <td>21:11:00</td>\n",
       "      <td>2016-01-01</td>\n",
       "      <td>21:17:00</td>\n",
       "      <td>4</td>\n",
       "      <td>6.0</td>\n",
       "      <td>0.850000</td>\n",
       "    </tr>\n",
       "    <tr>\n",
       "      <th>1</th>\n",
       "      <td>Business</td>\n",
       "      <td>Fort Pierce</td>\n",
       "      <td>Fort Pierce</td>\n",
       "      <td>5.0</td>\n",
       "      <td>Meeting</td>\n",
       "      <td>2016-01-02</td>\n",
       "      <td>01:25:00</td>\n",
       "      <td>2016-01-02</td>\n",
       "      <td>01:37:00</td>\n",
       "      <td>5</td>\n",
       "      <td>12.0</td>\n",
       "      <td>0.416667</td>\n",
       "    </tr>\n",
       "    <tr>\n",
       "      <th>2</th>\n",
       "      <td>Business</td>\n",
       "      <td>Fort Pierce</td>\n",
       "      <td>Fort Pierce</td>\n",
       "      <td>4.8</td>\n",
       "      <td>Errand/Supplies</td>\n",
       "      <td>2016-01-02</td>\n",
       "      <td>20:25:00</td>\n",
       "      <td>2016-01-02</td>\n",
       "      <td>20:38:00</td>\n",
       "      <td>5</td>\n",
       "      <td>13.0</td>\n",
       "      <td>0.369231</td>\n",
       "    </tr>\n",
       "    <tr>\n",
       "      <th>3</th>\n",
       "      <td>Business</td>\n",
       "      <td>Fort Pierce</td>\n",
       "      <td>Fort Pierce</td>\n",
       "      <td>4.7</td>\n",
       "      <td>Meeting</td>\n",
       "      <td>2016-01-05</td>\n",
       "      <td>17:31:00</td>\n",
       "      <td>2016-01-05</td>\n",
       "      <td>17:45:00</td>\n",
       "      <td>1</td>\n",
       "      <td>14.0</td>\n",
       "      <td>0.335714</td>\n",
       "    </tr>\n",
       "    <tr>\n",
       "      <th>4</th>\n",
       "      <td>Business</td>\n",
       "      <td>Fort Pierce</td>\n",
       "      <td>West Palm Beach</td>\n",
       "      <td>63.7</td>\n",
       "      <td>Customer Visit</td>\n",
       "      <td>2016-01-06</td>\n",
       "      <td>14:42:00</td>\n",
       "      <td>2016-01-06</td>\n",
       "      <td>15:49:00</td>\n",
       "      <td>2</td>\n",
       "      <td>67.0</td>\n",
       "      <td>0.950746</td>\n",
       "    </tr>\n",
       "  </tbody>\n",
       "</table>\n",
       "</div>"
      ],
      "text/plain": [
       "  CATEGORY*       START*            STOP*  MILES*         PURPOSE*  \\\n",
       "0  Business  Fort Pierce      Fort Pierce     5.1   Meal/Entertain   \n",
       "1  Business  Fort Pierce      Fort Pierce     5.0          Meeting   \n",
       "2  Business  Fort Pierce      Fort Pierce     4.8  Errand/Supplies   \n",
       "3  Business  Fort Pierce      Fort Pierce     4.7          Meeting   \n",
       "4  Business  Fort Pierce  West Palm Beach    63.7   Customer Visit   \n",
       "\n",
       "   Start Date Start Time    End Date  End Time  Weekday  Duration     Speed  \n",
       "0  2016-01-01   21:11:00  2016-01-01  21:17:00        4       6.0  0.850000  \n",
       "1  2016-01-02   01:25:00  2016-01-02  01:37:00        5      12.0  0.416667  \n",
       "2  2016-01-02   20:25:00  2016-01-02  20:38:00        5      13.0  0.369231  \n",
       "3  2016-01-05   17:31:00  2016-01-05  17:45:00        1      14.0  0.335714  \n",
       "4  2016-01-06   14:42:00  2016-01-06  15:49:00        2      67.0  0.950746  "
      ]
     },
     "execution_count": 82,
     "metadata": {},
     "output_type": "execute_result"
    }
   ],
   "source": [
    "UberData.head()"
   ]
  },
  {
   "cell_type": "markdown",
   "metadata": {},
   "source": [
    "#### 1. Harsh starts with testing whether there is any significant difference in the duration of the trips when the trip had the same start and end location compared to a trip with different start and stop locations. For this purpose, he uses an independent two-sample t-test."
   ]
  },
  {
   "cell_type": "code",
   "execution_count": 84,
   "metadata": {},
   "outputs": [],
   "source": [
    "# making the series\n",
    "short_trips = UberData[UberData['START*'] == UberData['STOP*']]['Duration']\n",
    "long_trips = UberData[UberData['START*'] != UberData['STOP*']]['Duration']"
   ]
  },
  {
   "cell_type": "code",
   "execution_count": 85,
   "metadata": {},
   "outputs": [
    {
     "data": {
      "text/plain": [
       "Ttest_indResult(statistic=-3.153834200568637, pvalue=0.0016681600501869647)"
      ]
     },
     "execution_count": 85,
     "metadata": {},
     "output_type": "execute_result"
    }
   ],
   "source": [
    "# performing the test\n",
    "stats.ttest_ind(short_trips, long_trips)\n"
   ]
  },
  {
   "cell_type": "markdown",
   "metadata": {},
   "source": [
    "#### 2. The hour of the day that the trip starts in can depend on the fact that whether it is a trip in the same area or to a different area. Jacob can be motivated to opt for long-distance trips during specific hours of the day, considering his work schedule or traffic conditions. To check for this, Harsh again runs an independent two-sample t-test."
   ]
  },
  {
   "cell_type": "code",
   "execution_count": 52,
   "metadata": {},
   "outputs": [],
   "source": [
    "# making the series\n",
    "start_hour_st = pd.to_datetime(UberData[UberData['START*'] == UberData['STOP*']]['Start Time']).dt.hour\n",
    "start_hour_lt = pd.to_datetime(UberData[UberData['START*'] != UberData['STOP*']]['Start Time']).dt.hour"
   ]
  },
  {
   "cell_type": "code",
   "execution_count": 55,
   "metadata": {},
   "outputs": [
    {
     "data": {
      "text/plain": [
       "Ttest_indResult(statistic=0.03169655757182658, pvalue=0.9747214986447293)"
      ]
     },
     "execution_count": 55,
     "metadata": {},
     "output_type": "execute_result"
    }
   ],
   "source": [
    "# performing the test\n",
    "stats.ttest_ind(start_hour_st, start_hour_lt)"
   ]
  },
  {
   "cell_type": "markdown",
   "metadata": {},
   "source": [
    "#### 3. The duration of the trip can also depend on the purpose of the trip. This is checked using a oneway ANOVA test. "
   ]
  },
  {
   "cell_type": "code",
   "execution_count": 56,
   "metadata": {},
   "outputs": [
    {
     "data": {
      "text/plain": [
       "Meeting            485\n",
       "Meal/Entertain     139\n",
       "Errand/Supplies     92\n",
       "Customer Visit      86\n",
       "Temporary Site      25\n",
       "Between Offices     17\n",
       "Moving               4\n",
       "Commute              1\n",
       "Charity ($)          1\n",
       "Name: PURPOSE*, dtype: int64"
      ]
     },
     "execution_count": 56,
     "metadata": {},
     "output_type": "execute_result"
    }
   ],
   "source": [
    "UberData['PURPOSE*'].value_counts()"
   ]
  },
  {
   "cell_type": "code",
   "execution_count": 57,
   "metadata": {},
   "outputs": [],
   "source": [
    "# making the series\n",
    "Meeting = UberData[UberData['PURPOSE*'] == 'Meeting']['Duration']\n",
    "Meal = UberData[UberData['PURPOSE*'] == 'Meal/Entertain']['Duration']\n",
    "Errand = UberData[UberData['PURPOSE*'] == 'Errand/Supplies']['Duration']\n",
    "CV = UberData[UberData['PURPOSE*'] == 'Customer Visit']['Duration']\n",
    "TS = UberData[UberData['PURPOSE*'] == 'Temporary Site']['Duration']\n",
    "BO = UberData[UberData['PURPOSE*'] == 'Between Offices']['Duration']\n"
   ]
  },
  {
   "cell_type": "code",
   "execution_count": 58,
   "metadata": {},
   "outputs": [
    {
     "data": {
      "text/plain": [
       "F_onewayResult(statistic=11.296289554038825, pvalue=1.4648137069937668e-10)"
      ]
     },
     "execution_count": 58,
     "metadata": {},
     "output_type": "execute_result"
    }
   ],
   "source": [
    "# performing the test\n",
    "anova_result = stats.f_oneway(Meeting, Meal, Errand, CV, TS, BO)\n",
    "anova_result\n"
   ]
  },
  {
   "cell_type": "code",
   "execution_count": 59,
   "metadata": {},
   "outputs": [],
   "source": [
    "# making the series\n",
    "Mon = UberData[UberData['Weekday'] == 0]['Duration']\n",
    "Tue = UberData[UberData['Weekday'] == 1]['Duration']\n",
    "Wed = UberData[UberData['Weekday'] == 2]['Duration']\n",
    "Thu = UberData[UberData['Weekday'] == 3]['Duration']\n",
    "Fri = UberData[UberData['Weekday'] == 4]['Duration']\n",
    "Sat = UberData[UberData['Weekday'] == 5]['Duration']\n",
    "Sun = UberData[UberData['Weekday'] == 6]['Duration']\n"
   ]
  },
  {
   "cell_type": "code",
   "execution_count": 60,
   "metadata": {},
   "outputs": [
    {
     "data": {
      "text/plain": [
       "F_onewayResult(statistic=2.679524906963419, pvalue=0.01395144798702145)"
      ]
     },
     "execution_count": 60,
     "metadata": {},
     "output_type": "execute_result"
    }
   ],
   "source": [
    "# performing the test\n",
    "anova_result = stats.f_oneway(Mon, Tue, Wed, Thu, Fri, Sat, Sun)\n",
    "anova_result\n"
   ]
  },
  {
   "cell_type": "markdown",
   "metadata": {},
   "source": [
    "#### Finally, Harsh checks whether the two features 'PURPOSE*' and 'Weekday' are independent of each other, as there is a possibility that the meetings might take place only on the weekdays, trips for supplies or entertainment take place on weekends and likewise. A Chi-Square test is used here.\n"
   ]
  },
  {
   "cell_type": "code",
   "execution_count": 90,
   "metadata": {},
   "outputs": [
    {
     "data": {
      "text/html": [
       "<div>\n",
       "<style scoped>\n",
       "    .dataframe tbody tr th:only-of-type {\n",
       "        vertical-align: middle;\n",
       "    }\n",
       "\n",
       "    .dataframe tbody tr th {\n",
       "        vertical-align: top;\n",
       "    }\n",
       "\n",
       "    .dataframe thead th {\n",
       "        text-align: right;\n",
       "    }\n",
       "</style>\n",
       "<table border=\"1\" class=\"dataframe\">\n",
       "  <thead>\n",
       "    <tr style=\"text-align: right;\">\n",
       "      <th>Weekday</th>\n",
       "      <th>0</th>\n",
       "      <th>1</th>\n",
       "      <th>2</th>\n",
       "      <th>3</th>\n",
       "      <th>4</th>\n",
       "      <th>5</th>\n",
       "      <th>6</th>\n",
       "    </tr>\n",
       "    <tr>\n",
       "      <th>PURPOSE*</th>\n",
       "      <th></th>\n",
       "      <th></th>\n",
       "      <th></th>\n",
       "      <th></th>\n",
       "      <th></th>\n",
       "      <th></th>\n",
       "      <th></th>\n",
       "    </tr>\n",
       "  </thead>\n",
       "  <tbody>\n",
       "    <tr>\n",
       "      <th>Between Offices</th>\n",
       "      <td>4</td>\n",
       "      <td>2</td>\n",
       "      <td>4</td>\n",
       "      <td>0</td>\n",
       "      <td>1</td>\n",
       "      <td>3</td>\n",
       "      <td>3</td>\n",
       "    </tr>\n",
       "    <tr>\n",
       "      <th>Charity ($)</th>\n",
       "      <td>0</td>\n",
       "      <td>0</td>\n",
       "      <td>0</td>\n",
       "      <td>0</td>\n",
       "      <td>0</td>\n",
       "      <td>0</td>\n",
       "      <td>1</td>\n",
       "    </tr>\n",
       "    <tr>\n",
       "      <th>Commute</th>\n",
       "      <td>0</td>\n",
       "      <td>0</td>\n",
       "      <td>0</td>\n",
       "      <td>0</td>\n",
       "      <td>0</td>\n",
       "      <td>0</td>\n",
       "      <td>1</td>\n",
       "    </tr>\n",
       "    <tr>\n",
       "      <th>Customer Visit</th>\n",
       "      <td>16</td>\n",
       "      <td>8</td>\n",
       "      <td>15</td>\n",
       "      <td>9</td>\n",
       "      <td>16</td>\n",
       "      <td>11</td>\n",
       "      <td>11</td>\n",
       "    </tr>\n",
       "    <tr>\n",
       "      <th>Errand/Supplies</th>\n",
       "      <td>13</td>\n",
       "      <td>18</td>\n",
       "      <td>7</td>\n",
       "      <td>13</td>\n",
       "      <td>15</td>\n",
       "      <td>14</td>\n",
       "      <td>12</td>\n",
       "    </tr>\n",
       "    <tr>\n",
       "      <th>Meal/Entertain</th>\n",
       "      <td>25</td>\n",
       "      <td>22</td>\n",
       "      <td>18</td>\n",
       "      <td>18</td>\n",
       "      <td>20</td>\n",
       "      <td>18</td>\n",
       "      <td>18</td>\n",
       "    </tr>\n",
       "    <tr>\n",
       "      <th>Meeting</th>\n",
       "      <td>57</td>\n",
       "      <td>68</td>\n",
       "      <td>67</td>\n",
       "      <td>58</td>\n",
       "      <td>93</td>\n",
       "      <td>71</td>\n",
       "      <td>71</td>\n",
       "    </tr>\n",
       "    <tr>\n",
       "      <th>Moving</th>\n",
       "      <td>4</td>\n",
       "      <td>0</td>\n",
       "      <td>0</td>\n",
       "      <td>0</td>\n",
       "      <td>0</td>\n",
       "      <td>0</td>\n",
       "      <td>0</td>\n",
       "    </tr>\n",
       "    <tr>\n",
       "      <th>Temporary Site</th>\n",
       "      <td>2</td>\n",
       "      <td>4</td>\n",
       "      <td>2</td>\n",
       "      <td>9</td>\n",
       "      <td>7</td>\n",
       "      <td>0</td>\n",
       "      <td>1</td>\n",
       "    </tr>\n",
       "  </tbody>\n",
       "</table>\n",
       "</div>"
      ],
      "text/plain": [
       "Weekday           0   1   2   3   4   5   6\n",
       "PURPOSE*                                   \n",
       "Between Offices   4   2   4   0   1   3   3\n",
       "Charity ($)       0   0   0   0   0   0   1\n",
       "Commute           0   0   0   0   0   0   1\n",
       "Customer Visit   16   8  15   9  16  11  11\n",
       "Errand/Supplies  13  18   7  13  15  14  12\n",
       "Meal/Entertain   25  22  18  18  20  18  18\n",
       "Meeting          57  68  67  58  93  71  71\n",
       "Moving            4   0   0   0   0   0   0\n",
       "Temporary Site    2   4   2   9   7   0   1"
      ]
     },
     "execution_count": 90,
     "metadata": {},
     "output_type": "execute_result"
    }
   ],
   "source": [
    "# making the contingency table\n",
    "crosstab = pd.crosstab(UberData['PURPOSE*'], UberData['Weekday'])\n",
    "crosstab"
   ]
  },
  {
   "cell_type": "code",
   "execution_count": 91,
   "metadata": {},
   "outputs": [
    {
     "data": {
      "text/plain": [
       "(76.35368743040026,\n",
       " 0.005708652088386965,\n",
       " 48,\n",
       " array([[ 2.42      ,  2.44      ,  2.26      ,  2.14      ,  3.04      ,\n",
       "          2.34      ,  2.36      ],\n",
       "        [ 0.14235294,  0.14352941,  0.13294118,  0.12588235,  0.17882353,\n",
       "          0.13764706,  0.13882353],\n",
       "        [ 0.14235294,  0.14352941,  0.13294118,  0.12588235,  0.17882353,\n",
       "          0.13764706,  0.13882353],\n",
       "        [12.24235294, 12.34352941, 11.43294118, 10.82588235, 15.37882353,\n",
       "         11.83764706, 11.93882353],\n",
       "        [13.09647059, 13.20470588, 12.23058824, 11.58117647, 16.45176471,\n",
       "         12.66352941, 12.77176471],\n",
       "        [19.78705882, 19.95058824, 18.47882353, 17.49764706, 24.85647059,\n",
       "         19.13294118, 19.29647059],\n",
       "        [69.04117647, 69.61176471, 64.47647059, 61.05294118, 86.72941176,\n",
       "         66.75882353, 67.32941176],\n",
       "        [ 0.56941176,  0.57411765,  0.53176471,  0.50352941,  0.71529412,\n",
       "          0.55058824,  0.55529412],\n",
       "        [ 3.55882353,  3.58823529,  3.32352941,  3.14705882,  4.47058824,\n",
       "          3.44117647,  3.47058824]]))"
      ]
     },
     "execution_count": 91,
     "metadata": {},
     "output_type": "execute_result"
    }
   ],
   "source": [
    "#performing the test\n",
    "stats.chi2_contingency(crosstab)"
   ]
  }
 ],
 "metadata": {
  "kernelspec": {
   "display_name": "Python 3",
   "language": "python",
   "name": "python3"
  },
  "language_info": {
   "codemirror_mode": {
    "name": "ipython",
    "version": 3
   },
   "file_extension": ".py",
   "mimetype": "text/x-python",
   "name": "python",
   "nbconvert_exporter": "python",
   "pygments_lexer": "ipython3",
   "version": "3.7.6"
  }
 },
 "nbformat": 4,
 "nbformat_minor": 4
}
